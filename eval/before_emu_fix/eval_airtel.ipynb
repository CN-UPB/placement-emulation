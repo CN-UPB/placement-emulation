{
 "cells": [
  {
   "cell_type": "markdown",
   "metadata": {},
   "source": [
    "# First evaluation insights for the Airtel network\n",
    "\n",
    "**Inputs:**\n",
    "* Algorithms: bjointsp, greedy, random\n",
    "* Network: Airtel\n",
    "* Service: fw1chain, fw2chain, fw3chain\n",
    "* Sources: source0-9\n",
    "\n",
    "Airtel is a medium-large network with nodes far away from each other. This leads to high link delays and lower impact of rounding link delays to full integers, which was a problem with the very dense Colt network.\n",
    "\n",
    "![Airtel](http://topology-zoo.org/maps/Airtel.jpg)"
   ]
  },
  {
   "cell_type": "code",
   "execution_count": 1,
   "metadata": {
    "collapsed": true
   },
   "outputs": [],
   "source": [
    "%matplotlib inline\n",
    "import pandas as pd\n",
    "import numpy as np\n",
    "import matplotlib.pyplot as plt\n",
    "import seaborn as sns\n",
    "\n",
    "# include and import util/eval.py\n",
    "import os\n",
    "import sys\n",
    "module_path = os.path.abspath(os.path.join('..'))\n",
    "if module_path not in sys.path:\n",
    "    sys.path.append(module_path) \n",
    "from util import eval\n",
    "\n",
    "\n",
    "bjointsp_chain_df, bjointsp_aux_chain_df, bjointsp_vnf_df, bjointsp_aux_vnf_df = eval.prepare_eval('Airtel', 'bjointsp')\n",
    "greedy_chain_df, greedy_aux_chain_df, greedy_vnf_df, greedy_aux_vnf_df = eval.prepare_eval('Airtel', 'greedy')\n",
    "random_chain_df, random_aux_chain_df, random_vnf_df, random_aux_vnf_df = eval.prepare_eval('Airtel', 'random')"
   ]
  },
  {
   "cell_type": "markdown",
   "metadata": {},
   "source": [
    "There are 12 different pandas dataframes, four for each of the placement algorithms. \n",
    "\n",
    "chain_df contains the delays (RTTs) of the whole chain and vnf_df contains the inter-VNF delays. They have separate columns for the simulation and emulation RTTs and additional columns for the difference and the ratio between simulation and emulation RTT.\n",
    "\n",
    "For easier plotting later, aux_chain_df and aux_vnf_df contain the same data as chain_df and vnf_df, respectiveley, just in a different structure: Here, there is just one column called 'rtt'. Simulation and emulation delays are stored in the same column in different rows. They are distinguished by a new column 'type' that is either 'sim' or 'emu', classifying the type of RTT.\n",
    "\n",
    "For better intuition, see the tables below."
   ]
  },
  {
   "cell_type": "code",
   "execution_count": 24,
   "metadata": {},
   "outputs": [
    {
     "data": {
      "text/html": [
       "<div>\n",
       "<style>\n",
       "    .dataframe thead tr:only-child th {\n",
       "        text-align: right;\n",
       "    }\n",
       "\n",
       "    .dataframe thead th {\n",
       "        text-align: left;\n",
       "    }\n",
       "\n",
       "    .dataframe tbody tr th {\n",
       "        vertical-align: top;\n",
       "    }\n",
       "</style>\n",
       "<table border=\"1\" class=\"dataframe\">\n",
       "  <thead>\n",
       "    <tr style=\"text-align: right;\">\n",
       "      <th></th>\n",
       "      <th>network</th>\n",
       "      <th>num_nodes</th>\n",
       "      <th>num_edges</th>\n",
       "      <th>service</th>\n",
       "      <th>num_vnfs</th>\n",
       "      <th>sources</th>\n",
       "      <th>num_sources</th>\n",
       "      <th>algorithm</th>\n",
       "      <th>sim_rtt</th>\n",
       "      <th>emu_rtt</th>\n",
       "      <th>rtt_diff</th>\n",
       "      <th>rtt_ratio</th>\n",
       "    </tr>\n",
       "  </thead>\n",
       "  <tbody>\n",
       "    <tr>\n",
       "      <th>0</th>\n",
       "      <td>Airtel.graphml</td>\n",
       "      <td>16</td>\n",
       "      <td>37</td>\n",
       "      <td>fw1chain.yaml</td>\n",
       "      <td>3</td>\n",
       "      <td>source0.yaml</td>\n",
       "      <td>1</td>\n",
       "      <td>bjointsp</td>\n",
       "      <td>74.0</td>\n",
       "      <td>75.10</td>\n",
       "      <td>1.10</td>\n",
       "      <td>1.014865</td>\n",
       "    </tr>\n",
       "    <tr>\n",
       "      <th>1</th>\n",
       "      <td>Airtel.graphml</td>\n",
       "      <td>16</td>\n",
       "      <td>37</td>\n",
       "      <td>fw1chain.yaml</td>\n",
       "      <td>3</td>\n",
       "      <td>source1.yaml</td>\n",
       "      <td>1</td>\n",
       "      <td>bjointsp</td>\n",
       "      <td>28.0</td>\n",
       "      <td>29.05</td>\n",
       "      <td>1.05</td>\n",
       "      <td>1.037500</td>\n",
       "    </tr>\n",
       "    <tr>\n",
       "      <th>2</th>\n",
       "      <td>Airtel.graphml</td>\n",
       "      <td>16</td>\n",
       "      <td>37</td>\n",
       "      <td>fw1chain.yaml</td>\n",
       "      <td>3</td>\n",
       "      <td>source2.yaml</td>\n",
       "      <td>1</td>\n",
       "      <td>bjointsp</td>\n",
       "      <td>64.0</td>\n",
       "      <td>65.10</td>\n",
       "      <td>1.10</td>\n",
       "      <td>1.017187</td>\n",
       "    </tr>\n",
       "    <tr>\n",
       "      <th>3</th>\n",
       "      <td>Airtel.graphml</td>\n",
       "      <td>16</td>\n",
       "      <td>37</td>\n",
       "      <td>fw1chain.yaml</td>\n",
       "      <td>3</td>\n",
       "      <td>source3.yaml</td>\n",
       "      <td>1</td>\n",
       "      <td>bjointsp</td>\n",
       "      <td>124.0</td>\n",
       "      <td>125.10</td>\n",
       "      <td>1.10</td>\n",
       "      <td>1.008871</td>\n",
       "    </tr>\n",
       "    <tr>\n",
       "      <th>4</th>\n",
       "      <td>Airtel.graphml</td>\n",
       "      <td>16</td>\n",
       "      <td>37</td>\n",
       "      <td>fw1chain.yaml</td>\n",
       "      <td>3</td>\n",
       "      <td>source4.yaml</td>\n",
       "      <td>1</td>\n",
       "      <td>bjointsp</td>\n",
       "      <td>48.0</td>\n",
       "      <td>49.10</td>\n",
       "      <td>1.10</td>\n",
       "      <td>1.022917</td>\n",
       "    </tr>\n",
       "  </tbody>\n",
       "</table>\n",
       "</div>"
      ],
      "text/plain": [
       "          network num_nodes num_edges        service num_vnfs       sources  \\\n",
       "0  Airtel.graphml        16        37  fw1chain.yaml        3  source0.yaml   \n",
       "1  Airtel.graphml        16        37  fw1chain.yaml        3  source1.yaml   \n",
       "2  Airtel.graphml        16        37  fw1chain.yaml        3  source2.yaml   \n",
       "3  Airtel.graphml        16        37  fw1chain.yaml        3  source3.yaml   \n",
       "4  Airtel.graphml        16        37  fw1chain.yaml        3  source4.yaml   \n",
       "\n",
       "  num_sources algorithm  sim_rtt  emu_rtt  rtt_diff  rtt_ratio  \n",
       "0           1  bjointsp     74.0    75.10      1.10   1.014865  \n",
       "1           1  bjointsp     28.0    29.05      1.05   1.037500  \n",
       "2           1  bjointsp     64.0    65.10      1.10   1.017187  \n",
       "3           1  bjointsp    124.0   125.10      1.10   1.008871  \n",
       "4           1  bjointsp     48.0    49.10      1.10   1.022917  "
      ]
     },
     "execution_count": 24,
     "metadata": {},
     "output_type": "execute_result"
    }
   ],
   "source": [
    "bjointsp_chain_df.head()"
   ]
  },
  {
   "cell_type": "code",
   "execution_count": 25,
   "metadata": {
    "scrolled": true
   },
   "outputs": [
    {
     "data": {
      "text/html": [
       "<div>\n",
       "<style>\n",
       "    .dataframe thead tr:only-child th {\n",
       "        text-align: right;\n",
       "    }\n",
       "\n",
       "    .dataframe thead th {\n",
       "        text-align: left;\n",
       "    }\n",
       "\n",
       "    .dataframe tbody tr th {\n",
       "        vertical-align: top;\n",
       "    }\n",
       "</style>\n",
       "<table border=\"1\" class=\"dataframe\">\n",
       "  <thead>\n",
       "    <tr style=\"text-align: right;\">\n",
       "      <th></th>\n",
       "      <th>algorithm</th>\n",
       "      <th>network</th>\n",
       "      <th>num_nodes</th>\n",
       "      <th>num_edges</th>\n",
       "      <th>service</th>\n",
       "      <th>num_vnfs</th>\n",
       "      <th>sources</th>\n",
       "      <th>num_sources</th>\n",
       "      <th>rtt</th>\n",
       "      <th>type</th>\n",
       "    </tr>\n",
       "  </thead>\n",
       "  <tbody>\n",
       "    <tr>\n",
       "      <th>0</th>\n",
       "      <td>bjointsp</td>\n",
       "      <td>Airtel.graphml</td>\n",
       "      <td>16</td>\n",
       "      <td>37</td>\n",
       "      <td>fw1chain.yaml</td>\n",
       "      <td>3</td>\n",
       "      <td>source0.yaml</td>\n",
       "      <td>1</td>\n",
       "      <td>74.0</td>\n",
       "      <td>sim</td>\n",
       "    </tr>\n",
       "    <tr>\n",
       "      <th>1</th>\n",
       "      <td>bjointsp</td>\n",
       "      <td>Airtel.graphml</td>\n",
       "      <td>16</td>\n",
       "      <td>37</td>\n",
       "      <td>fw1chain.yaml</td>\n",
       "      <td>3</td>\n",
       "      <td>source1.yaml</td>\n",
       "      <td>1</td>\n",
       "      <td>28.0</td>\n",
       "      <td>sim</td>\n",
       "    </tr>\n",
       "    <tr>\n",
       "      <th>2</th>\n",
       "      <td>bjointsp</td>\n",
       "      <td>Airtel.graphml</td>\n",
       "      <td>16</td>\n",
       "      <td>37</td>\n",
       "      <td>fw1chain.yaml</td>\n",
       "      <td>3</td>\n",
       "      <td>source2.yaml</td>\n",
       "      <td>1</td>\n",
       "      <td>64.0</td>\n",
       "      <td>sim</td>\n",
       "    </tr>\n",
       "    <tr>\n",
       "      <th>3</th>\n",
       "      <td>bjointsp</td>\n",
       "      <td>Airtel.graphml</td>\n",
       "      <td>16</td>\n",
       "      <td>37</td>\n",
       "      <td>fw1chain.yaml</td>\n",
       "      <td>3</td>\n",
       "      <td>source3.yaml</td>\n",
       "      <td>1</td>\n",
       "      <td>124.0</td>\n",
       "      <td>sim</td>\n",
       "    </tr>\n",
       "    <tr>\n",
       "      <th>4</th>\n",
       "      <td>bjointsp</td>\n",
       "      <td>Airtel.graphml</td>\n",
       "      <td>16</td>\n",
       "      <td>37</td>\n",
       "      <td>fw1chain.yaml</td>\n",
       "      <td>3</td>\n",
       "      <td>source4.yaml</td>\n",
       "      <td>1</td>\n",
       "      <td>48.0</td>\n",
       "      <td>sim</td>\n",
       "    </tr>\n",
       "  </tbody>\n",
       "</table>\n",
       "</div>"
      ],
      "text/plain": [
       "  algorithm         network num_nodes num_edges        service num_vnfs  \\\n",
       "0  bjointsp  Airtel.graphml        16        37  fw1chain.yaml        3   \n",
       "1  bjointsp  Airtel.graphml        16        37  fw1chain.yaml        3   \n",
       "2  bjointsp  Airtel.graphml        16        37  fw1chain.yaml        3   \n",
       "3  bjointsp  Airtel.graphml        16        37  fw1chain.yaml        3   \n",
       "4  bjointsp  Airtel.graphml        16        37  fw1chain.yaml        3   \n",
       "\n",
       "        sources num_sources    rtt type  \n",
       "0  source0.yaml           1   74.0  sim  \n",
       "1  source1.yaml           1   28.0  sim  \n",
       "2  source2.yaml           1   64.0  sim  \n",
       "3  source3.yaml           1  124.0  sim  \n",
       "4  source4.yaml           1   48.0  sim  "
      ]
     },
     "execution_count": 25,
     "metadata": {},
     "output_type": "execute_result"
    }
   ],
   "source": [
    "bjointsp_aux_chain_df.head()"
   ]
  },
  {
   "cell_type": "code",
   "execution_count": 26,
   "metadata": {},
   "outputs": [
    {
     "data": {
      "text/html": [
       "<div>\n",
       "<style>\n",
       "    .dataframe thead tr:only-child th {\n",
       "        text-align: right;\n",
       "    }\n",
       "\n",
       "    .dataframe thead th {\n",
       "        text-align: left;\n",
       "    }\n",
       "\n",
       "    .dataframe tbody tr th {\n",
       "        vertical-align: top;\n",
       "    }\n",
       "</style>\n",
       "<table border=\"1\" class=\"dataframe\">\n",
       "  <thead>\n",
       "    <tr style=\"text-align: right;\">\n",
       "      <th></th>\n",
       "      <th>network</th>\n",
       "      <th>num_nodes</th>\n",
       "      <th>num_edges</th>\n",
       "      <th>service</th>\n",
       "      <th>num_vnfs</th>\n",
       "      <th>sources</th>\n",
       "      <th>num_sources</th>\n",
       "      <th>algorithm</th>\n",
       "      <th>src</th>\n",
       "      <th>dest</th>\n",
       "      <th>sim_rtt</th>\n",
       "      <th>emu_rtt</th>\n",
       "      <th>rtt_diff</th>\n",
       "      <th>rtt_ratio</th>\n",
       "    </tr>\n",
       "  </thead>\n",
       "  <tbody>\n",
       "    <tr>\n",
       "      <th>0</th>\n",
       "      <td>Airtel.graphml</td>\n",
       "      <td>16</td>\n",
       "      <td>37</td>\n",
       "      <td>fw1chain.yaml</td>\n",
       "      <td>3</td>\n",
       "      <td>source0.yaml</td>\n",
       "      <td>1</td>\n",
       "      <td>bjointsp</td>\n",
       "      <td>vnf_user</td>\n",
       "      <td>vnf_fw1</td>\n",
       "      <td>60.0</td>\n",
       "      <td>60.793</td>\n",
       "      <td>0.793</td>\n",
       "      <td>1.013217</td>\n",
       "    </tr>\n",
       "    <tr>\n",
       "      <th>1</th>\n",
       "      <td>Airtel.graphml</td>\n",
       "      <td>16</td>\n",
       "      <td>37</td>\n",
       "      <td>fw1chain.yaml</td>\n",
       "      <td>3</td>\n",
       "      <td>source0.yaml</td>\n",
       "      <td>1</td>\n",
       "      <td>bjointsp</td>\n",
       "      <td>vnf_fw1</td>\n",
       "      <td>vnf_web</td>\n",
       "      <td>14.0</td>\n",
       "      <td>14.338</td>\n",
       "      <td>0.338</td>\n",
       "      <td>1.024143</td>\n",
       "    </tr>\n",
       "    <tr>\n",
       "      <th>2</th>\n",
       "      <td>Airtel.graphml</td>\n",
       "      <td>16</td>\n",
       "      <td>37</td>\n",
       "      <td>fw1chain.yaml</td>\n",
       "      <td>3</td>\n",
       "      <td>source1.yaml</td>\n",
       "      <td>1</td>\n",
       "      <td>bjointsp</td>\n",
       "      <td>vnf_user</td>\n",
       "      <td>vnf_fw1</td>\n",
       "      <td>14.0</td>\n",
       "      <td>14.321</td>\n",
       "      <td>0.321</td>\n",
       "      <td>1.022929</td>\n",
       "    </tr>\n",
       "    <tr>\n",
       "      <th>3</th>\n",
       "      <td>Airtel.graphml</td>\n",
       "      <td>16</td>\n",
       "      <td>37</td>\n",
       "      <td>fw1chain.yaml</td>\n",
       "      <td>3</td>\n",
       "      <td>source1.yaml</td>\n",
       "      <td>1</td>\n",
       "      <td>bjointsp</td>\n",
       "      <td>vnf_fw1</td>\n",
       "      <td>vnf_web</td>\n",
       "      <td>14.0</td>\n",
       "      <td>14.317</td>\n",
       "      <td>0.317</td>\n",
       "      <td>1.022643</td>\n",
       "    </tr>\n",
       "    <tr>\n",
       "      <th>4</th>\n",
       "      <td>Airtel.graphml</td>\n",
       "      <td>16</td>\n",
       "      <td>37</td>\n",
       "      <td>fw1chain.yaml</td>\n",
       "      <td>3</td>\n",
       "      <td>source2.yaml</td>\n",
       "      <td>1</td>\n",
       "      <td>bjointsp</td>\n",
       "      <td>vnf_user</td>\n",
       "      <td>vnf_fw1</td>\n",
       "      <td>44.0</td>\n",
       "      <td>44.630</td>\n",
       "      <td>0.630</td>\n",
       "      <td>1.014318</td>\n",
       "    </tr>\n",
       "  </tbody>\n",
       "</table>\n",
       "</div>"
      ],
      "text/plain": [
       "          network num_nodes num_edges        service num_vnfs       sources  \\\n",
       "0  Airtel.graphml        16        37  fw1chain.yaml        3  source0.yaml   \n",
       "1  Airtel.graphml        16        37  fw1chain.yaml        3  source0.yaml   \n",
       "2  Airtel.graphml        16        37  fw1chain.yaml        3  source1.yaml   \n",
       "3  Airtel.graphml        16        37  fw1chain.yaml        3  source1.yaml   \n",
       "4  Airtel.graphml        16        37  fw1chain.yaml        3  source2.yaml   \n",
       "\n",
       "  num_sources algorithm       src     dest  sim_rtt  emu_rtt  rtt_diff  \\\n",
       "0           1  bjointsp  vnf_user  vnf_fw1     60.0   60.793     0.793   \n",
       "1           1  bjointsp   vnf_fw1  vnf_web     14.0   14.338     0.338   \n",
       "2           1  bjointsp  vnf_user  vnf_fw1     14.0   14.321     0.321   \n",
       "3           1  bjointsp   vnf_fw1  vnf_web     14.0   14.317     0.317   \n",
       "4           1  bjointsp  vnf_user  vnf_fw1     44.0   44.630     0.630   \n",
       "\n",
       "   rtt_ratio  \n",
       "0   1.013217  \n",
       "1   1.024143  \n",
       "2   1.022929  \n",
       "3   1.022643  \n",
       "4   1.014318  "
      ]
     },
     "execution_count": 26,
     "metadata": {},
     "output_type": "execute_result"
    }
   ],
   "source": [
    "bjointsp_vnf_df.head()"
   ]
  },
  {
   "cell_type": "markdown",
   "metadata": {},
   "source": [
    "## Chain RTT\n",
    "\n",
    "Let's start the evaluation by analyzing the RTT of the whole chain, comparing the different placement algorithms."
   ]
  },
  {
   "cell_type": "code",
   "execution_count": 2,
   "metadata": {},
   "outputs": [
    {
     "data": {
      "text/plain": [
       "Text(0.5,1,'Emulation chain RTT')"
      ]
     },
     "execution_count": 2,
     "metadata": {},
     "output_type": "execute_result"
    },
    {
     "data": {
      "image/png": "[encoded data removed]",
      "text/plain": [
       "<matplotlib.figure.Figure at 0x2a304f165c0>"
      ]
     },
     "metadata": {},
     "output_type": "display_data"
    }
   ],
   "source": [
    "# comparison of bjointsp and random placement\n",
    "# df with combined/concatenated results of both bjointsp and random\n",
    "chain_df = pd.concat([bjointsp_chain_df, greedy_chain_df, random_chain_df])\n",
    "\n",
    "f, (ax1, ax2) = plt.subplots(1, 2, figsize=(10, 5))\n",
    "sns.boxplot(x='num_vnfs', y='sim_rtt', hue='algorithm', data=chain_df, ax=ax1).set_title('Simulation chain RTT')\n",
    "sns.boxplot(x='num_vnfs', y='emu_rtt', hue='algorithm', data=chain_df, ax=ax2).set_title('Emulation chain RTT')"
   ]
  },
  {
   "cell_type": "markdown",
   "metadata": {},
   "source": [
    "Clearly, random placement leads to much higher simulation and emulation delays than bjointsp and greedy placement. Greedy placement and bjointsp perform comparably. For all algorithms, the delays increase notably with increasing chain length (num_vnfs)."
   ]
  },
  {
   "cell_type": "code",
   "execution_count": 4,
   "metadata": {
    "scrolled": false
   },
   "outputs": [
    {
     "data": {
      "text/plain": [
       "Text(0.5,1,'Random chain RTT')"
      ]
     },
     "execution_count": 4,
     "metadata": {},
     "output_type": "execute_result"
    },
    {
     "data": {
      "image/png": "[encoded data removed]",
      "text/plain": [
       "<matplotlib.figure.Figure at 0x2a309200d68>"
      ]
     },
     "metadata": {},
     "output_type": "display_data"
    }
   ],
   "source": [
    "# comparison of simulation and emulation delays\n",
    "# this is what aux_chain_df is for\n",
    "f, (ax1, ax2, ax3) = plt.subplots(1, 3, figsize=(15, 5))\n",
    "sns.boxplot(x='num_vnfs', y='rtt', hue='type', data=bjointsp_aux_chain_df, ax=ax1).set_title('B-JointSP chain RTT')\n",
    "sns.boxplot(x='num_vnfs', y='rtt', hue='type', data=greedy_aux_chain_df, ax=ax2).set_title('Greedy chain RTT')\n",
    "sns.boxplot(x='num_vnfs', y='rtt', hue='type', data=random_aux_chain_df, ax=ax3).set_title('Random chain RTT')"
   ]
  },
  {
   "cell_type": "markdown",
   "metadata": {},
   "source": [
    "Chain delays seem to be very similar comparing simulation and emulation. Clearly, there are a variety of different RTTs per service/chain length because of different placement (each one has a different source location).\n",
    "Generally, the emulated RTTs seem to be slightly higher than the simulated RTTs - especially for greedy placement.\n",
    "\n",
    "\n",
    "### Chain RTT difference\n",
    "\n",
    "Absolute difference between emulated and simulated chain RTT: emu_rtt - sim_rtt"
   ]
  },
  {
   "cell_type": "code",
   "execution_count": 5,
   "metadata": {},
   "outputs": [
    {
     "data": {
      "text/plain": [
       "Text(0.5,1,'Random chain RTT difference')"
      ]
     },
     "execution_count": 5,
     "metadata": {},
     "output_type": "execute_result"
    },
    {
     "data": {
      "image/png": "[encoded data removed]",
      "text/plain": [
       "<matplotlib.figure.Figure at 0x2a308e24470>"
      ]
     },
     "metadata": {},
     "output_type": "display_data"
    }
   ],
   "source": [
    "f, (ax1, ax2, ax3) = plt.subplots(1, 3, figsize=(15, 5))\n",
    "sns.boxplot(x='num_vnfs', y='rtt_diff', data=bjointsp_chain_df, ax=ax1).set_title('B-JointSP chain RTT difference')\n",
    "sns.boxplot(x='num_vnfs', y='rtt_diff', data=greedy_chain_df, ax=ax2).set_title('Greedy chain RTT difference')\n",
    "sns.boxplot(x='num_vnfs', y='rtt_diff', data=random_chain_df, ax=ax3).set_title('Random chain RTT difference')"
   ]
  },
  {
   "cell_type": "markdown",
   "metadata": {},
   "source": [
    "When looking at the difference in RTT, the emulation delay is clearly higher than the simulation delay. And the difference between the two increases with increasing chain length. There is surprisingly little deviation in rtt_diff for each chain length.\n",
    "\n",
    "This observation holds for bjointsp and random placement algorithms, but it looks very different for greedy placement! There are some greedy placements with 4 or 5 VNFs that have much higher emulated than simulated chain RTT. Why?"
   ]
  },
  {
   "cell_type": "code",
   "execution_count": 13,
   "metadata": {},
   "outputs": [
    {
     "data": {
      "text/html": [
       "<div>\n",
       "<style>\n",
       "    .dataframe thead tr:only-child th {\n",
       "        text-align: right;\n",
       "    }\n",
       "\n",
       "    .dataframe thead th {\n",
       "        text-align: left;\n",
       "    }\n",
       "\n",
       "    .dataframe tbody tr th {\n",
       "        vertical-align: top;\n",
       "    }\n",
       "</style>\n",
       "<table border=\"1\" class=\"dataframe\">\n",
       "  <thead>\n",
       "    <tr style=\"text-align: right;\">\n",
       "      <th></th>\n",
       "      <th>network</th>\n",
       "      <th>num_nodes</th>\n",
       "      <th>num_edges</th>\n",
       "      <th>service</th>\n",
       "      <th>num_vnfs</th>\n",
       "      <th>sources</th>\n",
       "      <th>num_sources</th>\n",
       "      <th>algorithm</th>\n",
       "      <th>sim_rtt</th>\n",
       "      <th>emu_rtt</th>\n",
       "      <th>rtt_diff</th>\n",
       "      <th>rtt_ratio</th>\n",
       "    </tr>\n",
       "  </thead>\n",
       "  <tbody>\n",
       "    <tr>\n",
       "      <th>1</th>\n",
       "      <td>Airtel</td>\n",
       "      <td>16</td>\n",
       "      <td>26</td>\n",
       "      <td>fw1chain</td>\n",
       "      <td>3</td>\n",
       "      <td>source1</td>\n",
       "      <td>1</td>\n",
       "      <td>greedy</td>\n",
       "      <td>26.0</td>\n",
       "      <td>63.15</td>\n",
       "      <td>37.15</td>\n",
       "      <td>2.428846</td>\n",
       "    </tr>\n",
       "    <tr>\n",
       "      <th>7</th>\n",
       "      <td>Airtel</td>\n",
       "      <td>16</td>\n",
       "      <td>26</td>\n",
       "      <td>fw1chain</td>\n",
       "      <td>3</td>\n",
       "      <td>source7</td>\n",
       "      <td>1</td>\n",
       "      <td>greedy</td>\n",
       "      <td>68.0</td>\n",
       "      <td>137.20</td>\n",
       "      <td>69.20</td>\n",
       "      <td>2.017647</td>\n",
       "    </tr>\n",
       "    <tr>\n",
       "      <th>11</th>\n",
       "      <td>Airtel</td>\n",
       "      <td>16</td>\n",
       "      <td>26</td>\n",
       "      <td>fw2chain</td>\n",
       "      <td>4</td>\n",
       "      <td>source1</td>\n",
       "      <td>1</td>\n",
       "      <td>greedy</td>\n",
       "      <td>40.0</td>\n",
       "      <td>77.85</td>\n",
       "      <td>37.85</td>\n",
       "      <td>1.946250</td>\n",
       "    </tr>\n",
       "    <tr>\n",
       "      <th>12</th>\n",
       "      <td>Airtel</td>\n",
       "      <td>16</td>\n",
       "      <td>26</td>\n",
       "      <td>fw2chain</td>\n",
       "      <td>4</td>\n",
       "      <td>source2</td>\n",
       "      <td>1</td>\n",
       "      <td>greedy</td>\n",
       "      <td>112.0</td>\n",
       "      <td>181.85</td>\n",
       "      <td>69.85</td>\n",
       "      <td>1.623661</td>\n",
       "    </tr>\n",
       "    <tr>\n",
       "      <th>17</th>\n",
       "      <td>Airtel</td>\n",
       "      <td>16</td>\n",
       "      <td>26</td>\n",
       "      <td>fw2chain</td>\n",
       "      <td>4</td>\n",
       "      <td>source7</td>\n",
       "      <td>1</td>\n",
       "      <td>greedy</td>\n",
       "      <td>74.0</td>\n",
       "      <td>143.90</td>\n",
       "      <td>69.90</td>\n",
       "      <td>1.944595</td>\n",
       "    </tr>\n",
       "    <tr>\n",
       "      <th>21</th>\n",
       "      <td>Airtel</td>\n",
       "      <td>16</td>\n",
       "      <td>26</td>\n",
       "      <td>fw3chain</td>\n",
       "      <td>5</td>\n",
       "      <td>source1</td>\n",
       "      <td>1</td>\n",
       "      <td>greedy</td>\n",
       "      <td>96.0</td>\n",
       "      <td>134.65</td>\n",
       "      <td>38.65</td>\n",
       "      <td>1.402604</td>\n",
       "    </tr>\n",
       "    <tr>\n",
       "      <th>22</th>\n",
       "      <td>Airtel</td>\n",
       "      <td>16</td>\n",
       "      <td>26</td>\n",
       "      <td>fw3chain</td>\n",
       "      <td>5</td>\n",
       "      <td>source2</td>\n",
       "      <td>1</td>\n",
       "      <td>greedy</td>\n",
       "      <td>118.0</td>\n",
       "      <td>188.55</td>\n",
       "      <td>70.55</td>\n",
       "      <td>1.597881</td>\n",
       "    </tr>\n",
       "    <tr>\n",
       "      <th>27</th>\n",
       "      <td>Airtel</td>\n",
       "      <td>16</td>\n",
       "      <td>26</td>\n",
       "      <td>fw3chain</td>\n",
       "      <td>5</td>\n",
       "      <td>source7</td>\n",
       "      <td>1</td>\n",
       "      <td>greedy</td>\n",
       "      <td>110.0</td>\n",
       "      <td>180.60</td>\n",
       "      <td>70.60</td>\n",
       "      <td>1.641818</td>\n",
       "    </tr>\n",
       "  </tbody>\n",
       "</table>\n",
       "</div>"
      ],
      "text/plain": [
       "   network num_nodes num_edges   service num_vnfs  sources num_sources  \\\n",
       "1   Airtel        16        26  fw1chain        3  source1           1   \n",
       "7   Airtel        16        26  fw1chain        3  source7           1   \n",
       "11  Airtel        16        26  fw2chain        4  source1           1   \n",
       "12  Airtel        16        26  fw2chain        4  source2           1   \n",
       "17  Airtel        16        26  fw2chain        4  source7           1   \n",
       "21  Airtel        16        26  fw3chain        5  source1           1   \n",
       "22  Airtel        16        26  fw3chain        5  source2           1   \n",
       "27  Airtel        16        26  fw3chain        5  source7           1   \n",
       "\n",
       "   algorithm  sim_rtt  emu_rtt  rtt_diff  rtt_ratio  \n",
       "1     greedy     26.0    63.15     37.15   2.428846  \n",
       "7     greedy     68.0   137.20     69.20   2.017647  \n",
       "11    greedy     40.0    77.85     37.85   1.946250  \n",
       "12    greedy    112.0   181.85     69.85   1.623661  \n",
       "17    greedy     74.0   143.90     69.90   1.944595  \n",
       "21    greedy     96.0   134.65     38.65   1.402604  \n",
       "22    greedy    118.0   188.55     70.55   1.597881  \n",
       "27    greedy    110.0   180.60     70.60   1.641818  "
      ]
     },
     "execution_count": 13,
     "metadata": {},
     "output_type": "execute_result"
    }
   ],
   "source": [
    "# check greedy placements with high rtt_diff\n",
    "greedy_chain_df.loc[greedy_chain_df['rtt_diff'] > 3]"
   ]
  },
  {
   "cell_type": "markdown",
   "metadata": {},
   "source": [
    "An rtt_diff of up to 3 ms is comparable to the other algorithms. For greedy, there are 8 placements with much higher rtt_diff. Each of them with source1 (Chennai), 2 (NYIX), or 7 (New York).\n",
    "\n",
    "As an example, check the first one: fw1chain with source1. Looking at the placement files shows that the delay from vnf_user to vnf_fw1 is as expected and similar for both simulation and emulation. But the delay from vnf_fw1 to vnf_web is much higher in emulation than in simulation. Why? Different routing?\n",
    "\n",
    "Simulation: vnf_fw1 - vnf_web RTT = 2 * 10 = 20 ms\n",
    "\n",
    "```yaml\n",
    "- delay: 10\n",
    "  dest: vnf_web\n",
    "  dest_node: pop14\n",
    "  src: vnf_fw1\n",
    "  src_node: pop9\n",
    "```\n",
    "\n",
    "Emulation: vnf_fw1 - vnf_web RTT = 56.8 ms in avg\n",
    "\n",
    "```yaml\n",
    "- delay: 56.786\n",
    "  dest: vnf_web\n",
    "  max: 113.671\n",
    "  min: 56.163\n",
    "  src: vnf_fw1\n",
    "  stddev: 5.717\n",
    "```\n",
    "\n",
    "vnf_fw1 is placed at pop9 (Mumbai) and vnf_web is placed at pop14 (Singapore). The shortest path of 10 ms, used by simulation, goes through pop1 (Chennai).\n",
    "When starting the VNFs manually and connecting them with `vim-emu network add`, it shows that the emulator uses the same path:\n",
    "\n",
    "```\n",
    " \"path\": [\n",
    "  \"dc10.s1\", \n",
    "  \"dc2.s1\", \n",
    "  \"dc15.s1\"\n",
    " ], \n",
    " ```\n",
    " \n",
    "Note: dc10 refers to pop9, dc2 to pop1, dc15 to pop14. \n",
    "\n",
    "**TODO:** Then why is the delay still so much higher if it's the same path? Does this only/always happen for VNFs that are connected via multiple hops? Is this just some legid dirt effect - something that may just happen in reality, too?"
   ]
  },
  {
   "cell_type": "markdown",
   "metadata": {},
   "source": [
    "### Chain RTT ratio\n",
    "\n",
    "Relative ratio of emulated vs. simulated chain RTT: emu_rtt / sim_rtt"
   ]
  },
  {
   "cell_type": "code",
   "execution_count": 18,
   "metadata": {},
   "outputs": [
    {
     "data": {
      "text/plain": [
       "Text(0.5,1,'Chain RTT ratio')"
      ]
     },
     "execution_count": 18,
     "metadata": {},
     "output_type": "execute_result"
    },
    {
     "data": {
      "image/png": "[encoded data removed]",
      "text/plain": [
       "<matplotlib.figure.Figure at 0x2a30a003a58>"
      ]
     },
     "metadata": {},
     "output_type": "display_data"
    }
   ],
   "source": [
    "sns.boxplot(x='num_vnfs', y='rtt_ratio', hue='algorithm', data=chain_df).set_title('Chain RTT ratio')"
   ]
  },
  {
   "cell_type": "markdown",
   "metadata": {},
   "source": [
    "**Greedy**: Few, very high emulation delay with ratios well above 1. This \"ruins\" the plot for the other algorithms.\n",
    "\n",
    "Observations without greedy:\n",
    "\n",
    "**B-JointSP**: While the absolute difference between emulated and simulated chain RTT clearly increases for increasing chain length, the relative ratio of the two stays fairly constant at slightly above 1.\n",
    "The spread is higher for chains with three VNFs than with four or five, probably due to the shorter sim_rtt (deviations affect the ratio stronger).\n",
    "\n",
    "**Random**: While the RTT difference is higher, random placement actually has a lower ratio RTT ratio compared to B-JointSP. Also the spread is smaller. This is probably also due to the longer path lengths and higher overall delays, leading to lower ratios and less relative spread. Here, the ratio seems to increase very slightly with longer chains lengths."
   ]
  },
  {
   "cell_type": "markdown",
   "metadata": {},
   "source": [
    "## Inter-VNF RTT\n",
    "Let's do the same for inter-VNF delays/RTTs. Now, we're looking at two VNFs in isolation, i.e., independent of the rest of the chain. Thus, we're not considering chain length.\n",
    "\n",
    "**TODO:** Probably better to start with inter-VNF delay and then argue that chain delays are based on inter-VNF delays."
   ]
  },
  {
   "cell_type": "code",
   "execution_count": 19,
   "metadata": {},
   "outputs": [
    {
     "data": {
      "text/plain": [
       "Text(0.5,1,'Inter-VNF RTT')"
      ]
     },
     "execution_count": 19,
     "metadata": {},
     "output_type": "execute_result"
    },
    {
     "data": {
      "image/png": "[encoded data removed]",
      "text/plain": [
       "<matplotlib.figure.Figure at 0x2a309da8cf8>"
      ]
     },
     "metadata": {},
     "output_type": "display_data"
    }
   ],
   "source": [
    "aux_vnf_df = pd.concat([bjointsp_aux_vnf_df, greedy_aux_vnf_df, random_aux_vnf_df])\n",
    "\n",
    "sns.boxplot(x='type', y='rtt', hue='algorithm', data=aux_vnf_df).set_title('Inter-VNF RTT')"
   ]
  },
  {
   "cell_type": "markdown",
   "metadata": {},
   "source": [
    "As expected, random placement also leads to much higher inter-VNF delays than bjointsp and greedy.\n",
    "The difference between simulation and emulation delays seems to be negligible when considering inter-VNF RTTs. Let's look into that further.\n",
    "\n",
    "### Inter-VNF RTT difference\n",
    "\n",
    "Absolute difference between emulated and simulated inter-VNF RTT: emu_rtt - sim_rtt"
   ]
  },
  {
   "cell_type": "code",
   "execution_count": 23,
   "metadata": {},
   "outputs": [
    {
     "data": {
      "text/plain": [
       "(0, 2)"
      ]
     },
     "execution_count": 23,
     "metadata": {},
     "output_type": "execute_result"
    },
    {
     "data": {
      "image/png": "[encoded data removed]",
      "text/plain": [
       "<matplotlib.figure.Figure at 0x2a30a4315f8>"
      ]
     },
     "metadata": {},
     "output_type": "display_data"
    }
   ],
   "source": [
    "vnf_df = pd.concat([bjointsp_vnf_df, greedy_vnf_df, random_vnf_df])\n",
    "\n",
    "f, (ax1, ax2) = plt.subplots(1, 2, figsize=(10, 5))\n",
    "sns.boxplot(x='algorithm', y='rtt_diff', data=vnf_df, ax=ax1).set_title('Inter-VNF RTT difference')\n",
    "sns.boxplot(x='algorithm', y='rtt_diff', data=vnf_df, ax=ax2).set_title('Inter-VNF RTT difference (zoomed-in)')\n",
    "ax2.set_ylim([0, 2])"
   ]
  },
  {
   "cell_type": "markdown",
   "metadata": {},
   "source": [
    "The absolute difference between simulated and emulated inter-VNF RTTs is rather small - except for some heavy outliers in greedy placements (left figure).\n",
    "\n",
    "For bjointsp, it is generally smaller (< 1ms) than for random placement. Also the spread is smaller for bjointsp. This is probably due to the longer paths in random placement, which allow for more deviation between simulation and emulation. (Similar to the observation for chain RTTs.)\n",
    "\n",
    "Compared to chain RTTs: \n",
    "The simulation-emulation difference for chain RTTs was mainly influenced by the chain length. Longer chains lead to a higher difference between simulated and emulated chain RTT. For a given chain length, the spread is very low, i.e., all placements have a very similar chain RTT difference per chain length.\n",
    "\n",
    "For inter-VNF RTTs, there is a significant spread of the inter-VNF RTT difference (emulation vs simulation). Both for bjointsp and random. Where does this spread come from?"
   ]
  },
  {
   "cell_type": "code",
   "execution_count": 24,
   "metadata": {},
   "outputs": [
    {
     "data": {
      "text/plain": [
       "Text(0.5,1,'Random inter-VNF RTT difference')"
      ]
     },
     "execution_count": 24,
     "metadata": {},
     "output_type": "execute_result"
    },
    {
     "data": {
      "image/png": "[encoded data removed]",
      "text/plain": [
       "<matplotlib.figure.Figure at 0x2a30a3c2630>"
      ]
     },
     "metadata": {},
     "output_type": "display_data"
    }
   ],
   "source": [
    "# plot RTT difference for different chain lengths\n",
    "f, (ax1, ax2, ax3) = plt.subplots(1, 3, figsize=(15, 5))\n",
    "sns.boxplot(x='num_vnfs', y='rtt_diff', data=bjointsp_vnf_df, ax=ax1).set_title('B-JointSP inter-VNF RTT difference')\n",
    "sns.boxplot(x='num_vnfs', y='rtt_diff', data=greedy_vnf_df, ax=ax2).set_title('Greedy inter-VNF RTT difference')\n",
    "sns.boxplot(x='num_vnfs', y='rtt_diff', data=random_vnf_df, ax=ax3).set_title('Random inter-VNF RTT difference')"
   ]
  },
  {
   "cell_type": "markdown",
   "metadata": {},
   "source": [
    "Other than for chain RTTs, the chain length does not affect the inter-VNF RTT and cannot explain the large spread in inter-VNF RTT difference, nor the extreme outliers of greedy placement."
   ]
  },
  {
   "cell_type": "code",
   "execution_count": 33,
   "metadata": {},
   "outputs": [
    {
     "data": {
      "text/plain": [
       "Text(0.5,1,'Random placement')"
      ]
     },
     "execution_count": 33,
     "metadata": {},
     "output_type": "execute_result"
    },
    {
     "data": {
      "image/png": "[encoded data removed]",
      "text/plain": [
       "<matplotlib.figure.Figure at 0x2a30bfa7cc0>"
      ]
     },
     "metadata": {},
     "output_type": "display_data"
    }
   ],
   "source": [
    "# plot RTT difference as a variable of the node distance = link delay = sim delay/RTT\n",
    "f, (ax1, ax2, ax3) = plt.subplots(1, 3, figsize=(15, 5))\n",
    "sns.pointplot(x='sim_rtt', y='rtt_diff', data=bjointsp_vnf_df, ax=ax1).set_title('B-JointSP')\n",
    "sns.pointplot(x='sim_rtt', y='rtt_diff', data=greedy_vnf_df, ax=ax2).set_title('Greedy placement')\n",
    "ax2.set_ylim([0, 1])\n",
    "sns.pointplot(x='sim_rtt', y='rtt_diff', data=random_vnf_df, ax=ax3).set_title('Random placement')"
   ]
  },
  {
   "cell_type": "markdown",
   "metadata": {},
   "source": [
    "The difference of emulated and simulated inter-VNF RTTs increases with increasing simulated inter-VNF RTT. The simulated inter-VNF RTT directly reflects the link delay and thus distance between two connected VNFs.\n",
    "\n",
    "Hence, for two very close VNFs, the simulated and emulated delays are almost identical, but for VNFs that are placed farther away (higher sim_rtt), the emulated delay can be significantly larger than the simulated delay.\n",
    "\n",
    "This holds for all algorithms. But for greedy placement, the outliers cannot be explained by higher sim_rtt.\n",
    "\n",
    "\n",
    "### Inter-VNF RTT ratio\n",
    "\n",
    "Relative ratio of emulated vs. simulated inter-VNF RTT: emu_rtt / sim_rtt\n",
    "\n",
    "Set to infinity if sim_rtt = 0."
   ]
  },
  {
   "cell_type": "code",
   "execution_count": 26,
   "metadata": {
    "scrolled": false
   },
   "outputs": [
    {
     "name": "stdout",
     "output_type": "stream",
     "text": [
      "Entries with inifinite ratio: 0\n"
     ]
    }
   ],
   "source": [
    "# set infinite ratios to NaN, so they are ignored when plotting\n",
    "print('Entries with inifinite ratio: {}'.format(vnf_df['rtt_ratio'].loc[vnf_df['rtt_ratio'] == np.inf].count()))\n",
    "vnf_df = vnf_df.replace(np.inf, np.nan)"
   ]
  },
  {
   "cell_type": "code",
   "execution_count": 31,
   "metadata": {},
   "outputs": [
    {
     "data": {
      "text/plain": [
       "(1, 1.05)"
      ]
     },
     "execution_count": 31,
     "metadata": {},
     "output_type": "execute_result"
    },
    {
     "data": {
      "image/png": "[encoded data removed]",
      "text/plain": [
       "<matplotlib.figure.Figure at 0x2a30bf9f748>"
      ]
     },
     "metadata": {},
     "output_type": "display_data"
    }
   ],
   "source": [
    "f, (ax1, ax2) = plt.subplots(1, 2, figsize=(15, 5))\n",
    "sns.boxplot(x='algorithm', y='rtt_ratio', hue='num_vnfs', data=vnf_df, ax=ax1).set_title('Inter-VNF RTT ratio')\n",
    "sns.boxplot(x='algorithm', y='rtt_ratio', hue='num_vnfs', data=vnf_df, ax=ax2).set_title('Inter-VNF RTT ratio (zoomed-in)')\n",
    "ax2.set_ylim([1, 1.05])"
   ]
  },
  {
   "cell_type": "markdown",
   "metadata": {},
   "source": [
    "Similar to the chain RTT ratio, the inter-VNF RTT ratio is pretty much constant with increasing chain length and very close to 1 - except to the heavy outliers of some greedy placements.\n",
    "\n",
    "Random placement has slightly lower ratios with significantly lower spread than the other algorithms. This is likely due to the overall longer paths between VNFs in random placment, which lead to a lower relative ratio between emulated and simulated delay."
   ]
  },
  {
   "cell_type": "markdown",
   "metadata": {},
   "source": [
    "# Conclusion\n",
    "\n",
    "* Random placement leads to much higher delays than B-JointSP and greedy placement\n",
    "* Greedy placement and B-JointSP mostely lead to similar delays. B-JointSP is more sophisticated but only optimizes delay as last objective.\n",
    "* For all algorithms, the chain RTT clearly increases with increasing chain length\n",
    "* For longer chains, also the absolute difference of simulated vs emulated chain RTT increases\n",
    "* The inter-VNF RTT and RTT difference (simulation vs emulation) are mostly influenced by the distance of the two connected VNFs\n",
    "* In general, higher distance/chain length leads to higher absolute difference between simulation and emulation RTT but lower relative ratio of emulation and simulation RTT.\n",
    "\n",
    "Surprising:\n",
    "* There can be unexpected behavior in emulation, leading to significantly higher delays (order of 2-3x higher). Happend for greedy placement."
   ]
  }
 ],
 "metadata": {
  "kernelspec": {
   "display_name": "Python 3",
   "language": "python",
   "name": "python3"
  },
  "language_info": {
   "codemirror_mode": {
    "name": "ipython",
    "version": 3
   },
   "file_extension": ".py",
   "mimetype": "text/x-python",
   "name": "python",
   "nbconvert_exporter": "python",
   "pygments_lexer": "ipython3",
   "version": "3.6.3"
  }
 },
 "nbformat": 4,
 "nbformat_minor": 1
}
