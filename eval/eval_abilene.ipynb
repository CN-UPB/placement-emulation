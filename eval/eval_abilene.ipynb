{
 "cells": [
  {
   "cell_type": "markdown",
   "metadata": {},
   "source": [
    "# First evaluation insights for the Abilene network\n",
    "\n",
    "This notebook is copied and adjusted from the Airtel notebook.\n",
    "\n",
    "**Inputs:**\n",
    "* Algorithms: bjointsp, random\n",
    "* Network: Abilene\n",
    "* Service: fw1chain, fw2chain, fw3chain\n",
    "* Sources: source0-9\n",
    "\n",
    "Abilene a standard, small network used for experiments. The figure shows the network with the node labels and IDs in black as well as link delays (in ms) in red between the nodes.\n",
    "\n",
    "![Abilene](../docs/abilene.jpg)"
   ]
  },
  {
   "cell_type": "code",
   "execution_count": 2,
   "metadata": {
    "collapsed": true
   },
   "outputs": [],
   "source": [
    "%matplotlib inline\n",
    "import pandas as pd\n",
    "import numpy as np\n",
    "import matplotlib.pyplot as plt\n",
    "import seaborn as sns\n",
    "\n",
    "# include and import util/eval.py\n",
    "import os\n",
    "import sys\n",
    "module_path = os.path.abspath(os.path.join('..'))\n",
    "if module_path not in sys.path:\n",
    "    sys.path.append(module_path) \n",
    "from util import eval\n",
    "\n",
    "\n",
    "bjointsp_chain_df, bjointsp_aux_chain_df, bjointsp_vnf_df, bjointsp_aux_vnf_df = eval.prepare_eval('Abilene', 'bjointsp')\n",
    "random_chain_df, random_aux_chain_df, random_vnf_df, random_aux_vnf_df = eval.prepare_eval('Abilene', 'random')"
   ]
  },
  {
   "cell_type": "markdown",
   "metadata": {},
   "source": [
    "There are eight different pandas dataframes, four for each of the placement algorithms. \n",
    "\n",
    "chain_df contains the delays (RTTs) of the whole chain and vnf_df contains the inter-VNF delays. They have separate columns for the simulation and emulation RTTs and additional columns for the difference and the ratio between simulation and emulation RTT.\n",
    "\n",
    "For easier plotting later, aux_chain_df and aux_vnf_df contain the same data as chain_df and vnf_df, respectiveley, just in a different structure: Here, there is just one column called 'rtt'. Simulation and emulation delays are stored in the same column in different rows. They are distinguished by a new column 'type' that is either 'sim' or 'emu', classifying the type of RTT.\n",
    "\n",
    "For better intuition, see the tables below."
   ]
  },
  {
   "cell_type": "code",
   "execution_count": 3,
   "metadata": {},
   "outputs": [
    {
     "data": {
      "text/html": [
       "<div>\n",
       "<style>\n",
       "    .dataframe thead tr:only-child th {\n",
       "        text-align: right;\n",
       "    }\n",
       "\n",
       "    .dataframe thead th {\n",
       "        text-align: left;\n",
       "    }\n",
       "\n",
       "    .dataframe tbody tr th {\n",
       "        vertical-align: top;\n",
       "    }\n",
       "</style>\n",
       "<table border=\"1\" class=\"dataframe\">\n",
       "  <thead>\n",
       "    <tr style=\"text-align: right;\">\n",
       "      <th></th>\n",
       "      <th>network</th>\n",
       "      <th>num_nodes</th>\n",
       "      <th>num_edges</th>\n",
       "      <th>service</th>\n",
       "      <th>num_vnfs</th>\n",
       "      <th>sources</th>\n",
       "      <th>num_sources</th>\n",
       "      <th>algorithm</th>\n",
       "      <th>sim_rtt</th>\n",
       "      <th>emu_rtt</th>\n",
       "      <th>rtt_diff</th>\n",
       "      <th>rtt_ratio</th>\n",
       "    </tr>\n",
       "  </thead>\n",
       "  <tbody>\n",
       "    <tr>\n",
       "      <th>0</th>\n",
       "      <td>Abilene.graphml</td>\n",
       "      <td>11</td>\n",
       "      <td>14</td>\n",
       "      <td>fw1chain.yaml</td>\n",
       "      <td>3</td>\n",
       "      <td>source0.yaml</td>\n",
       "      <td>1</td>\n",
       "      <td>bjointsp</td>\n",
       "      <td>6.0</td>\n",
       "      <td>7.1</td>\n",
       "      <td>1.1</td>\n",
       "      <td>1.183333</td>\n",
       "    </tr>\n",
       "    <tr>\n",
       "      <th>1</th>\n",
       "      <td>Abilene.graphml</td>\n",
       "      <td>11</td>\n",
       "      <td>14</td>\n",
       "      <td>fw1chain.yaml</td>\n",
       "      <td>3</td>\n",
       "      <td>source1.yaml</td>\n",
       "      <td>1</td>\n",
       "      <td>bjointsp</td>\n",
       "      <td>6.0</td>\n",
       "      <td>7.1</td>\n",
       "      <td>1.1</td>\n",
       "      <td>1.183333</td>\n",
       "    </tr>\n",
       "    <tr>\n",
       "      <th>2</th>\n",
       "      <td>Abilene.graphml</td>\n",
       "      <td>11</td>\n",
       "      <td>14</td>\n",
       "      <td>fw1chain.yaml</td>\n",
       "      <td>3</td>\n",
       "      <td>source2.yaml</td>\n",
       "      <td>1</td>\n",
       "      <td>bjointsp</td>\n",
       "      <td>8.0</td>\n",
       "      <td>9.1</td>\n",
       "      <td>1.1</td>\n",
       "      <td>1.137500</td>\n",
       "    </tr>\n",
       "    <tr>\n",
       "      <th>3</th>\n",
       "      <td>Abilene.graphml</td>\n",
       "      <td>11</td>\n",
       "      <td>14</td>\n",
       "      <td>fw1chain.yaml</td>\n",
       "      <td>3</td>\n",
       "      <td>source3.yaml</td>\n",
       "      <td>1</td>\n",
       "      <td>bjointsp</td>\n",
       "      <td>8.0</td>\n",
       "      <td>9.1</td>\n",
       "      <td>1.1</td>\n",
       "      <td>1.137500</td>\n",
       "    </tr>\n",
       "    <tr>\n",
       "      <th>4</th>\n",
       "      <td>Abilene.graphml</td>\n",
       "      <td>11</td>\n",
       "      <td>14</td>\n",
       "      <td>fw1chain.yaml</td>\n",
       "      <td>3</td>\n",
       "      <td>source4.yaml</td>\n",
       "      <td>1</td>\n",
       "      <td>bjointsp</td>\n",
       "      <td>14.0</td>\n",
       "      <td>15.1</td>\n",
       "      <td>1.1</td>\n",
       "      <td>1.078571</td>\n",
       "    </tr>\n",
       "  </tbody>\n",
       "</table>\n",
       "</div>"
      ],
      "text/plain": [
       "           network num_nodes num_edges        service num_vnfs       sources  \\\n",
       "0  Abilene.graphml        11        14  fw1chain.yaml        3  source0.yaml   \n",
       "1  Abilene.graphml        11        14  fw1chain.yaml        3  source1.yaml   \n",
       "2  Abilene.graphml        11        14  fw1chain.yaml        3  source2.yaml   \n",
       "3  Abilene.graphml        11        14  fw1chain.yaml        3  source3.yaml   \n",
       "4  Abilene.graphml        11        14  fw1chain.yaml        3  source4.yaml   \n",
       "\n",
       "  num_sources algorithm  sim_rtt  emu_rtt  rtt_diff  rtt_ratio  \n",
       "0           1  bjointsp      6.0      7.1       1.1   1.183333  \n",
       "1           1  bjointsp      6.0      7.1       1.1   1.183333  \n",
       "2           1  bjointsp      8.0      9.1       1.1   1.137500  \n",
       "3           1  bjointsp      8.0      9.1       1.1   1.137500  \n",
       "4           1  bjointsp     14.0     15.1       1.1   1.078571  "
      ]
     },
     "execution_count": 3,
     "metadata": {},
     "output_type": "execute_result"
    }
   ],
   "source": [
    "bjointsp_chain_df.head()"
   ]
  },
  {
   "cell_type": "code",
   "execution_count": 4,
   "metadata": {
    "scrolled": true
   },
   "outputs": [
    {
     "data": {
      "text/html": [
       "<div>\n",
       "<style>\n",
       "    .dataframe thead tr:only-child th {\n",
       "        text-align: right;\n",
       "    }\n",
       "\n",
       "    .dataframe thead th {\n",
       "        text-align: left;\n",
       "    }\n",
       "\n",
       "    .dataframe tbody tr th {\n",
       "        vertical-align: top;\n",
       "    }\n",
       "</style>\n",
       "<table border=\"1\" class=\"dataframe\">\n",
       "  <thead>\n",
       "    <tr style=\"text-align: right;\">\n",
       "      <th></th>\n",
       "      <th>algorithm</th>\n",
       "      <th>network</th>\n",
       "      <th>num_nodes</th>\n",
       "      <th>num_edges</th>\n",
       "      <th>service</th>\n",
       "      <th>num_vnfs</th>\n",
       "      <th>sources</th>\n",
       "      <th>num_sources</th>\n",
       "      <th>rtt</th>\n",
       "      <th>type</th>\n",
       "    </tr>\n",
       "  </thead>\n",
       "  <tbody>\n",
       "    <tr>\n",
       "      <th>0</th>\n",
       "      <td>bjointsp</td>\n",
       "      <td>Abilene.graphml</td>\n",
       "      <td>11</td>\n",
       "      <td>14</td>\n",
       "      <td>fw1chain.yaml</td>\n",
       "      <td>3</td>\n",
       "      <td>source0.yaml</td>\n",
       "      <td>1</td>\n",
       "      <td>6.0</td>\n",
       "      <td>sim</td>\n",
       "    </tr>\n",
       "    <tr>\n",
       "      <th>1</th>\n",
       "      <td>bjointsp</td>\n",
       "      <td>Abilene.graphml</td>\n",
       "      <td>11</td>\n",
       "      <td>14</td>\n",
       "      <td>fw1chain.yaml</td>\n",
       "      <td>3</td>\n",
       "      <td>source1.yaml</td>\n",
       "      <td>1</td>\n",
       "      <td>6.0</td>\n",
       "      <td>sim</td>\n",
       "    </tr>\n",
       "    <tr>\n",
       "      <th>2</th>\n",
       "      <td>bjointsp</td>\n",
       "      <td>Abilene.graphml</td>\n",
       "      <td>11</td>\n",
       "      <td>14</td>\n",
       "      <td>fw1chain.yaml</td>\n",
       "      <td>3</td>\n",
       "      <td>source2.yaml</td>\n",
       "      <td>1</td>\n",
       "      <td>8.0</td>\n",
       "      <td>sim</td>\n",
       "    </tr>\n",
       "    <tr>\n",
       "      <th>3</th>\n",
       "      <td>bjointsp</td>\n",
       "      <td>Abilene.graphml</td>\n",
       "      <td>11</td>\n",
       "      <td>14</td>\n",
       "      <td>fw1chain.yaml</td>\n",
       "      <td>3</td>\n",
       "      <td>source3.yaml</td>\n",
       "      <td>1</td>\n",
       "      <td>8.0</td>\n",
       "      <td>sim</td>\n",
       "    </tr>\n",
       "    <tr>\n",
       "      <th>4</th>\n",
       "      <td>bjointsp</td>\n",
       "      <td>Abilene.graphml</td>\n",
       "      <td>11</td>\n",
       "      <td>14</td>\n",
       "      <td>fw1chain.yaml</td>\n",
       "      <td>3</td>\n",
       "      <td>source4.yaml</td>\n",
       "      <td>1</td>\n",
       "      <td>14.0</td>\n",
       "      <td>sim</td>\n",
       "    </tr>\n",
       "  </tbody>\n",
       "</table>\n",
       "</div>"
      ],
      "text/plain": [
       "  algorithm          network num_nodes num_edges        service num_vnfs  \\\n",
       "0  bjointsp  Abilene.graphml        11        14  fw1chain.yaml        3   \n",
       "1  bjointsp  Abilene.graphml        11        14  fw1chain.yaml        3   \n",
       "2  bjointsp  Abilene.graphml        11        14  fw1chain.yaml        3   \n",
       "3  bjointsp  Abilene.graphml        11        14  fw1chain.yaml        3   \n",
       "4  bjointsp  Abilene.graphml        11        14  fw1chain.yaml        3   \n",
       "\n",
       "        sources num_sources   rtt type  \n",
       "0  source0.yaml           1   6.0  sim  \n",
       "1  source1.yaml           1   6.0  sim  \n",
       "2  source2.yaml           1   8.0  sim  \n",
       "3  source3.yaml           1   8.0  sim  \n",
       "4  source4.yaml           1  14.0  sim  "
      ]
     },
     "execution_count": 4,
     "metadata": {},
     "output_type": "execute_result"
    }
   ],
   "source": [
    "bjointsp_aux_chain_df.head()"
   ]
  },
  {
   "cell_type": "code",
   "execution_count": 5,
   "metadata": {},
   "outputs": [
    {
     "data": {
      "text/html": [
       "<div>\n",
       "<style>\n",
       "    .dataframe thead tr:only-child th {\n",
       "        text-align: right;\n",
       "    }\n",
       "\n",
       "    .dataframe thead th {\n",
       "        text-align: left;\n",
       "    }\n",
       "\n",
       "    .dataframe tbody tr th {\n",
       "        vertical-align: top;\n",
       "    }\n",
       "</style>\n",
       "<table border=\"1\" class=\"dataframe\">\n",
       "  <thead>\n",
       "    <tr style=\"text-align: right;\">\n",
       "      <th></th>\n",
       "      <th>network</th>\n",
       "      <th>num_nodes</th>\n",
       "      <th>num_edges</th>\n",
       "      <th>service</th>\n",
       "      <th>num_vnfs</th>\n",
       "      <th>sources</th>\n",
       "      <th>num_sources</th>\n",
       "      <th>algorithm</th>\n",
       "      <th>src</th>\n",
       "      <th>dest</th>\n",
       "      <th>sim_rtt</th>\n",
       "      <th>emu_rtt</th>\n",
       "      <th>rtt_diff</th>\n",
       "      <th>rtt_ratio</th>\n",
       "    </tr>\n",
       "  </thead>\n",
       "  <tbody>\n",
       "    <tr>\n",
       "      <th>0</th>\n",
       "      <td>Abilene.graphml</td>\n",
       "      <td>11</td>\n",
       "      <td>14</td>\n",
       "      <td>fw1chain.yaml</td>\n",
       "      <td>3</td>\n",
       "      <td>source0.yaml</td>\n",
       "      <td>1</td>\n",
       "      <td>bjointsp</td>\n",
       "      <td>vnf_user</td>\n",
       "      <td>vnf_fw1</td>\n",
       "      <td>2.0</td>\n",
       "      <td>2.210</td>\n",
       "      <td>0.210</td>\n",
       "      <td>1.10500</td>\n",
       "    </tr>\n",
       "    <tr>\n",
       "      <th>1</th>\n",
       "      <td>Abilene.graphml</td>\n",
       "      <td>11</td>\n",
       "      <td>14</td>\n",
       "      <td>fw1chain.yaml</td>\n",
       "      <td>3</td>\n",
       "      <td>source0.yaml</td>\n",
       "      <td>1</td>\n",
       "      <td>bjointsp</td>\n",
       "      <td>vnf_fw1</td>\n",
       "      <td>vnf_web</td>\n",
       "      <td>4.0</td>\n",
       "      <td>4.238</td>\n",
       "      <td>0.238</td>\n",
       "      <td>1.05950</td>\n",
       "    </tr>\n",
       "    <tr>\n",
       "      <th>2</th>\n",
       "      <td>Abilene.graphml</td>\n",
       "      <td>11</td>\n",
       "      <td>14</td>\n",
       "      <td>fw1chain.yaml</td>\n",
       "      <td>3</td>\n",
       "      <td>source1.yaml</td>\n",
       "      <td>1</td>\n",
       "      <td>bjointsp</td>\n",
       "      <td>vnf_user</td>\n",
       "      <td>vnf_fw1</td>\n",
       "      <td>2.0</td>\n",
       "      <td>2.203</td>\n",
       "      <td>0.203</td>\n",
       "      <td>1.10150</td>\n",
       "    </tr>\n",
       "    <tr>\n",
       "      <th>3</th>\n",
       "      <td>Abilene.graphml</td>\n",
       "      <td>11</td>\n",
       "      <td>14</td>\n",
       "      <td>fw1chain.yaml</td>\n",
       "      <td>3</td>\n",
       "      <td>source1.yaml</td>\n",
       "      <td>1</td>\n",
       "      <td>bjointsp</td>\n",
       "      <td>vnf_fw1</td>\n",
       "      <td>vnf_web</td>\n",
       "      <td>4.0</td>\n",
       "      <td>4.223</td>\n",
       "      <td>0.223</td>\n",
       "      <td>1.05575</td>\n",
       "    </tr>\n",
       "    <tr>\n",
       "      <th>4</th>\n",
       "      <td>Abilene.graphml</td>\n",
       "      <td>11</td>\n",
       "      <td>14</td>\n",
       "      <td>fw1chain.yaml</td>\n",
       "      <td>3</td>\n",
       "      <td>source2.yaml</td>\n",
       "      <td>1</td>\n",
       "      <td>bjointsp</td>\n",
       "      <td>vnf_user</td>\n",
       "      <td>vnf_fw1</td>\n",
       "      <td>2.0</td>\n",
       "      <td>2.191</td>\n",
       "      <td>0.191</td>\n",
       "      <td>1.09550</td>\n",
       "    </tr>\n",
       "  </tbody>\n",
       "</table>\n",
       "</div>"
      ],
      "text/plain": [
       "           network num_nodes num_edges        service num_vnfs       sources  \\\n",
       "0  Abilene.graphml        11        14  fw1chain.yaml        3  source0.yaml   \n",
       "1  Abilene.graphml        11        14  fw1chain.yaml        3  source0.yaml   \n",
       "2  Abilene.graphml        11        14  fw1chain.yaml        3  source1.yaml   \n",
       "3  Abilene.graphml        11        14  fw1chain.yaml        3  source1.yaml   \n",
       "4  Abilene.graphml        11        14  fw1chain.yaml        3  source2.yaml   \n",
       "\n",
       "  num_sources algorithm       src     dest  sim_rtt  emu_rtt  rtt_diff  \\\n",
       "0           1  bjointsp  vnf_user  vnf_fw1      2.0    2.210     0.210   \n",
       "1           1  bjointsp   vnf_fw1  vnf_web      4.0    4.238     0.238   \n",
       "2           1  bjointsp  vnf_user  vnf_fw1      2.0    2.203     0.203   \n",
       "3           1  bjointsp   vnf_fw1  vnf_web      4.0    4.223     0.223   \n",
       "4           1  bjointsp  vnf_user  vnf_fw1      2.0    2.191     0.191   \n",
       "\n",
       "   rtt_ratio  \n",
       "0    1.10500  \n",
       "1    1.05950  \n",
       "2    1.10150  \n",
       "3    1.05575  \n",
       "4    1.09550  "
      ]
     },
     "execution_count": 5,
     "metadata": {},
     "output_type": "execute_result"
    }
   ],
   "source": [
    "bjointsp_vnf_df.head()"
   ]
  },
  {
   "cell_type": "markdown",
   "metadata": {},
   "source": [
    "## Chain RTT\n",
    "\n",
    "Let's start the evaluation by analyzing the RTT of the whole chain, comparing the different placement algorithms."
   ]
  },
  {
   "cell_type": "code",
   "execution_count": 6,
   "metadata": {},
   "outputs": [
    {
     "data": {
      "text/plain": [
       "Text(0.5,1,'Emulation chain RTT')"
      ]
     },
     "execution_count": 6,
     "metadata": {},
     "output_type": "execute_result"
    },
    {
     "data": {
      "image/png": "[encoded data removed]",
      "text/plain": [
       "<matplotlib.figure.Figure at 0x272eec1b320>"
      ]
     },
     "metadata": {},
     "output_type": "display_data"
    }
   ],
   "source": [
    "# comparison of bjointsp and random placement\n",
    "# df with combined/concatenated results of both bjointsp and random\n",
    "chain_df = pd.concat([bjointsp_chain_df, random_chain_df])\n",
    "\n",
    "f, (ax1, ax2) = plt.subplots(1, 2, figsize=(10, 5))\n",
    "sns.boxplot(x='num_vnfs', y='sim_rtt', hue='algorithm', data=chain_df, ax=ax1).set_title('Simulation chain RTT')\n",
    "sns.boxplot(x='num_vnfs', y='emu_rtt', hue='algorithm', data=chain_df, ax=ax2).set_title('Emulation chain RTT')"
   ]
  },
  {
   "cell_type": "markdown",
   "metadata": {},
   "source": [
    "Clearly, random placement leads to much higher simulation and emulation delays than bjointsp. For both, the delays increase notably with increasing chain length (num_vnfs).\n",
    "\n",
    "Compared to the large Airtel network, the difference between bjointsp and random placement is not as big in the small Abilene network."
   ]
  },
  {
   "cell_type": "code",
   "execution_count": 7,
   "metadata": {
    "scrolled": false
   },
   "outputs": [
    {
     "data": {
      "text/plain": [
       "Text(0.5,1,'Random chain RTT')"
      ]
     },
     "execution_count": 7,
     "metadata": {},
     "output_type": "execute_result"
    },
    {
     "data": {
      "image/png": "[encoded data removed]",
      "text/plain": [
       "<matplotlib.figure.Figure at 0x272eec1b8d0>"
      ]
     },
     "metadata": {},
     "output_type": "display_data"
    }
   ],
   "source": [
    "# comparison of simulation and emulation delays\n",
    "# this is what aux_chain_df is for\n",
    "f, (ax1, ax2) = plt.subplots(1, 2, figsize=(10, 5))\n",
    "sns.boxplot(x='num_vnfs', y='rtt', hue='type', data=bjointsp_aux_chain_df, ax=ax1).set_title('B-JointSP chain RTT')\n",
    "sns.boxplot(x='num_vnfs', y='rtt', hue='type', data=random_aux_chain_df, ax=ax2).set_title('Random chain RTT')"
   ]
  },
  {
   "cell_type": "markdown",
   "metadata": {},
   "source": [
    "Compared to the Airtel network, the difference between simulation and emulation appears much larger in the Abilene network.\n",
    "\n",
    "\n",
    "### Chain RTT difference\n",
    "\n",
    "Absolute difference between emulated and simulated chain RTT: emu_rtt - sim_rtt"
   ]
  },
  {
   "cell_type": "code",
   "execution_count": 8,
   "metadata": {},
   "outputs": [
    {
     "data": {
      "text/plain": [
       "Text(0.5,1,'Random chain RTT difference')"
      ]
     },
     "execution_count": 8,
     "metadata": {},
     "output_type": "execute_result"
    },
    {
     "data": {
      "image/png": "[encoded data removed]",
      "text/plain": [
       "<matplotlib.figure.Figure at 0x272effbbd68>"
      ]
     },
     "metadata": {},
     "output_type": "display_data"
    }
   ],
   "source": [
    "f, (ax1, ax2) = plt.subplots(1, 2, figsize=(10, 5))\n",
    "sns.boxplot(x='num_vnfs', y='rtt_diff', data=bjointsp_chain_df, ax=ax1).set_title('B-JointSP chain RTT difference')\n",
    "sns.boxplot(x='num_vnfs', y='rtt_diff', data=random_chain_df, ax=ax2).set_title('Random chain RTT difference')"
   ]
  },
  {
   "cell_type": "markdown",
   "metadata": {},
   "source": [
    "Looking at the difference in RTT, the emulation delay is clearly higher than the simulation delay. And the difference between the two increases with increasing chain length. There is surprisingly little deviation/spread in rtt_diff for each chain length.\n",
    "\n",
    "For random placement, the difference is significant and there is also considerable spread of rtt_diff, even within each chain length. What else influences the RTT difference here? Generally, the Abilene network has much smaller link delays, where the rounding to integers has a much larger effect. Does that explain something?\n",
    "\n",
    "\n",
    "### Chain RTT ratio\n",
    "\n",
    "Relative ratio of emulated vs. simulated chain RTT: emu_rtt / sim_rtt"
   ]
  },
  {
   "cell_type": "code",
   "execution_count": 9,
   "metadata": {},
   "outputs": [
    {
     "data": {
      "text/plain": [
       "Text(0.5,1,'Chain RTT ratio')"
      ]
     },
     "execution_count": 9,
     "metadata": {},
     "output_type": "execute_result"
    },
    {
     "data": {
      "image/png": "[encoded data removed]",
      "text/plain": [
       "<matplotlib.figure.Figure at 0x272f08fdf28>"
      ]
     },
     "metadata": {},
     "output_type": "display_data"
    }
   ],
   "source": [
    "sns.boxplot(x='num_vnfs', y='rtt_ratio', hue='algorithm', data=chain_df).set_title('Chain RTT ratio')"
   ]
  },
  {
   "cell_type": "markdown",
   "metadata": {},
   "source": [
    "**B-JointSP**: While the absolute difference between emulated and simulated chain RTT clearly increases for increasing chain length, the relative ratio of the two stays fairly constant at slightly above 1.\n",
    "\n",
    "**Random**: While the RTT difference is higher, random placement actually has a lower ratio RTT ratio compared to B-JointSP. However, the spread is larger. Why?"
   ]
  },
  {
   "cell_type": "markdown",
   "metadata": {},
   "source": [
    "## Inter-VNF RTT\n",
    "Let's do the same for inter-VNF delays/RTTs. Now, we're looking at two VNFs in isolation, i.e., independent of the rest of the chain. Thus, we're not considering chain length."
   ]
  },
  {
   "cell_type": "code",
   "execution_count": 10,
   "metadata": {},
   "outputs": [
    {
     "data": {
      "text/plain": [
       "Text(0.5,1,'Inter-VNF RTT')"
      ]
     },
     "execution_count": 10,
     "metadata": {},
     "output_type": "execute_result"
    },
    {
     "data": {
      "image/png": "[encoded data removed]",
      "text/plain": [
       "<matplotlib.figure.Figure at 0x272f016e0b8>"
      ]
     },
     "metadata": {},
     "output_type": "display_data"
    }
   ],
   "source": [
    "aux_vnf_df = pd.concat([bjointsp_aux_vnf_df, random_aux_vnf_df])\n",
    "\n",
    "sns.boxplot(x='type', y='rtt', hue='algorithm', data=aux_vnf_df).set_title('Inter-VNF RTT')"
   ]
  },
  {
   "cell_type": "markdown",
   "metadata": {},
   "source": [
    "As expected, random placement also leads to much higher inter-VNF delays than bjointsp. \n",
    "The difference between simulation and emulation delays seems to be negligible when considering inter-VNF RTTs. Let's look into that further.\n",
    "\n",
    "### Inter-VNF RTT difference\n",
    "\n",
    "Absolute difference between emulated and simulated inter-VNF RTT: emu_rtt - sim_rtt"
   ]
  },
  {
   "cell_type": "code",
   "execution_count": 17,
   "metadata": {},
   "outputs": [
    {
     "data": {
      "text/plain": [
       "Text(0.5,1,'Inter-VNF RTT difference (zoomed)')"
      ]
     },
     "execution_count": 17,
     "metadata": {},
     "output_type": "execute_result"
    },
    {
     "data": {
      "image/png": "[encoded data removed]",
      "text/plain": [
       "<matplotlib.figure.Figure at 0x272f0eab6a0>"
      ]
     },
     "metadata": {},
     "output_type": "display_data"
    }
   ],
   "source": [
    "vnf_df = pd.concat([bjointsp_vnf_df, random_vnf_df])\n",
    "\n",
    "f, (ax1, ax2) = plt.subplots(1, 2, figsize=(10, 5))\n",
    "sns.boxplot(x='algorithm', y='rtt_diff', data=vnf_df, ax=ax1).set_title('Inter-VNF RTT difference')\n",
    "# zoomed in\n",
    "ax2.set_ylim([0, 0.5])\n",
    "sns.boxplot(x='algorithm', y='rtt_diff', data=vnf_df, ax=ax2).set_title('Inter-VNF RTT difference (zoomed)')"
   ]
  },
  {
   "cell_type": "markdown",
   "metadata": {},
   "source": [
    "The absolute difference between simulated and emulated inter-VNF RTTs is rather small. \n",
    "\n",
    "For bjointsp, it is generally smaller than for random placement. Also the spread is smaller for bjointsp. This is probably due to the longer paths in random placement, which allow for more deviation between simulation and emulation. (Similar to the observation for chain RTTs.)\n",
    "\n",
    "*What are the outlier(s) in random placement?*"
   ]
  },
  {
   "cell_type": "code",
   "execution_count": 12,
   "metadata": {},
   "outputs": [
    {
     "data": {
      "text/plain": [
       "Text(0.5,1,'Random inter-VNF RTT difference')"
      ]
     },
     "execution_count": 12,
     "metadata": {},
     "output_type": "execute_result"
    },
    {
     "data": {
      "image/png": "[encoded data removed]",
      "text/plain": [
       "<matplotlib.figure.Figure at 0x272f0b2a5c0>"
      ]
     },
     "metadata": {},
     "output_type": "display_data"
    }
   ],
   "source": [
    "# plot RTT difference for different chain lengths\n",
    "f, (ax1, ax2) = plt.subplots(1, 2, figsize=(10, 5))\n",
    "sns.boxplot(x='num_vnfs', y='rtt_diff', data=bjointsp_vnf_df, ax=ax1).set_title('B-JointSP inter-VNF RTT difference')\n",
    "sns.boxplot(x='num_vnfs', y='rtt_diff', data=random_vnf_df, ax=ax2).set_title('Random inter-VNF RTT difference')"
   ]
  },
  {
   "cell_type": "markdown",
   "metadata": {},
   "source": [
    "Other than for chain RTTs, the chain length does not affect the inter-VNF RTT and cannot explain the large spread in inter-VNF RTT difference."
   ]
  },
  {
   "cell_type": "code",
   "execution_count": 13,
   "metadata": {},
   "outputs": [
    {
     "data": {
      "text/plain": [
       "Text(0.5,1,'Random placement')"
      ]
     },
     "execution_count": 13,
     "metadata": {},
     "output_type": "execute_result"
    },
    {
     "data": {
      "image/png": "[encoded data removed]",
      "text/plain": [
       "<matplotlib.figure.Figure at 0x272f0bafe80>"
      ]
     },
     "metadata": {},
     "output_type": "display_data"
    }
   ],
   "source": [
    "# plot RTT difference as a variable of the node distance = link delay = sim delay/RTT\n",
    "f, (ax1, ax2) = plt.subplots(1, 2, figsize=(15, 5))\n",
    "sns.pointplot(x='sim_rtt', y='rtt_diff', data=bjointsp_vnf_df, ax=ax1).set_title('B-JointSP')\n",
    "sns.pointplot(x='sim_rtt', y='rtt_diff', data=random_vnf_df, ax=ax2).set_title('Random placement')"
   ]
  },
  {
   "cell_type": "markdown",
   "metadata": {},
   "source": [
    "The difference of emulated and simulated inter-VNF RTTs increases with increasing simulated inter-VNF RTT. The simulated inter-VNF RTT directly reflects the link delay and thus distance between two connected VNFs.\n",
    "\n",
    "Hence, for two very close VNFs, the simulated and emulated delays are almost identical, but for VNFs that are placed farther away (higher sim_rtt), the emulated delay can be significantly larger than the simulated delay.\n",
    "\n",
    "This holds for both placement algorithms. *But why does it look so differently for random placement?*\n",
    "\n",
    "\n",
    "### Inter-VNF RTT ratio\n",
    "\n",
    "Relative ratio of emulated vs. simulated inter-VNF RTT: emu_rtt / sim_rtt\n",
    "\n",
    "Set to infinity if sim_rtt = 0."
   ]
  },
  {
   "cell_type": "code",
   "execution_count": 14,
   "metadata": {
    "scrolled": false
   },
   "outputs": [
    {
     "name": "stdout",
     "output_type": "stream",
     "text": [
      "Entries with inifinite ratio: 0\n"
     ]
    }
   ],
   "source": [
    "# set infinite ratios to NaN, so they are ignored when plotting\n",
    "print('Entries with inifinite ratio: {}'.format(vnf_df['rtt_ratio'].loc[vnf_df['rtt_ratio'] == np.inf].count()))\n",
    "vnf_df = vnf_df.replace(np.inf, np.nan)"
   ]
  },
  {
   "cell_type": "code",
   "execution_count": 15,
   "metadata": {},
   "outputs": [
    {
     "data": {
      "text/plain": [
       "Text(0.5,1,'Inter-VNF RTT ratio')"
      ]
     },
     "execution_count": 15,
     "metadata": {},
     "output_type": "execute_result"
    },
    {
     "data": {
      "image/png": "[encoded data removed]",
      "text/plain": [
       "<matplotlib.figure.Figure at 0x272eec16b38>"
      ]
     },
     "metadata": {},
     "output_type": "display_data"
    }
   ],
   "source": [
    "sns.boxplot(x='algorithm', y='rtt_ratio', hue='num_vnfs', data=vnf_df).set_title('Inter-VNF RTT ratio')"
   ]
  },
  {
   "cell_type": "markdown",
   "metadata": {},
   "source": [
    "Similar to the chain RTT ratio, the inter-VNF RTT ratio is pretty much constant with increasing chain length and very close to 1.\n",
    "\n",
    "While very close to 1 for both algorithms, bjoint sp has slightly higher ratios with significantly higher spread than random placement. This is likely due to the overall longer paths between VNFs in random placment, which lead to a lower relative ratio between emulated and simulated delay."
   ]
  },
  {
   "cell_type": "markdown",
   "metadata": {},
   "source": [
    "# Conclusion\n",
    "\n",
    "* Mostly similar to Airtel\n",
    "* Much higher difference between simulation and emulation, especially for random placement\n",
    "* Much higher spread of chain RTT difference within a chain length. Why?\n",
    "* Some outliers in inter-VNF RTT difference for random placement. Why?"
   ]
  }
 ],
 "metadata": {
  "kernelspec": {
   "display_name": "Python 3",
   "language": "python",
   "name": "python3"
  },
  "language_info": {
   "codemirror_mode": {
    "name": "ipython",
    "version": 3
   },
   "file_extension": ".py",
   "mimetype": "text/x-python",
   "name": "python",
   "nbconvert_exporter": "python",
   "pygments_lexer": "ipython3",
   "version": "3.6.3"
  }
 },
 "nbformat": 4,
 "nbformat_minor": 1
}
