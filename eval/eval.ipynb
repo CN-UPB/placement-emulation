{
 "cells": [
  {
   "cell_type": "markdown",
   "metadata": {
    "collapsed": true
   },
   "source": [
    "# First evaluation insights\n",
    "\n",
    "**Inputs:**\n",
    "* Network: Airtel\n",
    "* Service: fw1chain, fw2chain, fw3chain\n",
    "* Sources: source0-9"
   ]
  },
  {
   "cell_type": "code",
   "execution_count": 61,
   "metadata": {
    "collapsed": true
   },
   "outputs": [],
   "source": [
    "%matplotlib inline\n",
    "import glob\n",
    "import yaml\n",
    "import pandas as pd\n",
    "import matplotlib.pyplot as plt\n",
    "import seaborn as sns\n",
    "\n",
    "\n",
    "# network prefix to filter results\n",
    "prefix = 'Airtel'"
   ]
  },
  {
   "cell_type": "markdown",
   "metadata": {},
   "source": [
    "Airtel is a medium-large network with nodes far away from each other. This leads to high link delays and lower impact of rounding link delays to full integers, which was a problem with the very dense Colt network.\n",
    "\n",
    "![Airtel](http://topology-zoo.org/maps/Airtel.jpg)"
   ]
  },
  {
   "cell_type": "code",
   "execution_count": 62,
   "metadata": {
    "collapsed": true
   },
   "outputs": [],
   "source": [
    "# load simulation results and calculate RTT (from bjointsp)\n",
    "sim_results = glob.glob('bjointsp/{}*.yaml'.format(prefix))\n",
    "sim_delays = []\n",
    "for result_file in sim_results:\n",
    "    with open(result_file, 'r') as f:\n",
    "        result = yaml.load(f)\n",
    "\n",
    "        # one-way = RTT/2\n",
    "        result['chain_rtt'] = result['metrics']['total_delay'] * 2\n",
    "        for delay in result['metrics']['delays']:\n",
    "            delay['rtt'] = delay['delay'] * 2\n",
    "\n",
    "        sim_delays.append(result)"
   ]
  },
  {
   "cell_type": "code",
   "execution_count": 63,
   "metadata": {
    "collapsed": true
   },
   "outputs": [],
   "source": [
    "# load corresponding emulation results and calculate RTT\n",
    "emu_results = glob.glob('bjointsp/emulation/{}*.yaml'.format(prefix))\n",
    "emu_delays = []\n",
    "for result_file in emu_results:\n",
    "    with open(result_file, 'r') as f:\n",
    "        result = yaml.load(f)\n",
    "\n",
    "        # chain delays = httping = TCP handshake = 2x RTT\n",
    "        result['chain_rtt'] = result['chain_delay']['delay'] / 2\n",
    "\n",
    "        # vnf delays = ping = RTT\n",
    "        for delay in result['delays']:\n",
    "            delay['rtt'] = delay['delay']\n",
    "\n",
    "        emu_delays.append(result)\n",
    "        # TODO: also store std (how is std affected, when mean/2?)"
   ]
  },
  {
   "cell_type": "markdown",
   "metadata": {},
   "source": [
    "Combine the results from emulation and simulation:\n",
    "1. Sort and match results for chain and inter-VNF delays\n",
    "2. Create ordered data frame for easier comparison and evaluation"
   ]
  },
  {
   "cell_type": "code",
   "execution_count": 64,
   "metadata": {
    "collapsed": true
   },
   "outputs": [],
   "source": [
    "# create empty data frames\n",
    "input_cols = ['network', 'num_nodes', 'num_edges', 'service', 'num_vnfs', 'sources', 'num_sources', 'model']\n",
    "chain_df = pd.DataFrame(columns=input_cols + ['sim_rtt', 'emu_rtt'])\n",
    "vnf_df = pd.DataFrame(columns=input_cols + ['src', 'dest', 'sim_rtt', 'emu_rtt'])\n",
    "chain_index = 0\n",
    "vnf_index = 0\n",
    "\n",
    "# match and sort chain and inter-VNF RTTs and insert into data frames\n",
    "for emu in emu_delays:\n",
    "    for sim in sim_delays:\n",
    "        # match chain delays (same input: network, service, sources)\n",
    "        if emu['input']['network'].endswith(sim['input']['network']) \\\n",
    "                and emu['input']['service'].endswith(sim['input']['service']) \\\n",
    "                and emu['input']['sources'].endswith(sim['input']['sources']):\n",
    "            \n",
    "            # insert into data frame\n",
    "            inputs = [sim['input']['network'], sim['input']['num_nodes'], sim['input']['num_edges'], \n",
    "                      sim['input']['service'], sim['input']['num_vnfs'],\n",
    "                      sim['input']['sources'], sim['input']['num_sources'], sim['input']['model']]\n",
    "            # somehow the simulation RTT needs to be cast to float explicitly\n",
    "            chain_df.loc[chain_index] = inputs + [float(sim['chain_rtt']), emu['chain_rtt']]\n",
    "            chain_index += 1\n",
    "\n",
    "            # match inter-VNF RTTs (same input + src, dest)\n",
    "            for emu_vnf in emu['delays']:\n",
    "                for sim_vnf in sim['metrics']['delays']:\n",
    "                    if emu_vnf['src'] == sim_vnf['src'] and emu_vnf['dest'] == sim_vnf['dest']:\n",
    "                        vnf_df.loc[vnf_index] = inputs + [sim_vnf['src'], sim_vnf['dest'], float(sim_vnf['rtt']), emu_vnf['rtt']]\n",
    "                        vnf_index += 1"
   ]
  },
  {
   "cell_type": "code",
   "execution_count": 65,
   "metadata": {},
   "outputs": [
    {
     "name": "stdout",
     "output_type": "stream",
     "text": [
      "          sim_rtt     emu_rtt   rtt_diff\n",
      "count   30.000000   30.000000  30.000000\n",
      "mean    55.733333   57.373333   1.640000\n",
      "std     33.891239   34.203400   0.556993\n",
      "min      6.000000    6.950000   0.950000\n",
      "25%     34.500000   36.150000   1.000000\n",
      "50%     50.000000   51.975000   1.650000\n",
      "75%     72.500000   74.312500   2.300000\n",
      "max    138.000000  140.300000   2.400000\n"
     ]
    },
    {
     "data": {
      "text/html": [
       "<div>\n",
       "<style>\n",
       "    .dataframe thead tr:only-child th {\n",
       "        text-align: right;\n",
       "    }\n",
       "\n",
       "    .dataframe thead th {\n",
       "        text-align: left;\n",
       "    }\n",
       "\n",
       "    .dataframe tbody tr th {\n",
       "        vertical-align: top;\n",
       "    }\n",
       "</style>\n",
       "<table border=\"1\" class=\"dataframe\">\n",
       "  <thead>\n",
       "    <tr style=\"text-align: right;\">\n",
       "      <th></th>\n",
       "      <th>network</th>\n",
       "      <th>num_nodes</th>\n",
       "      <th>num_edges</th>\n",
       "      <th>service</th>\n",
       "      <th>num_vnfs</th>\n",
       "      <th>sources</th>\n",
       "      <th>num_sources</th>\n",
       "      <th>model</th>\n",
       "      <th>sim_rtt</th>\n",
       "      <th>emu_rtt</th>\n",
       "      <th>rtt_diff</th>\n",
       "    </tr>\n",
       "  </thead>\n",
       "  <tbody>\n",
       "    <tr>\n",
       "      <th>0</th>\n",
       "      <td>Airtel.graphml</td>\n",
       "      <td>16</td>\n",
       "      <td>37</td>\n",
       "      <td>fw1chain.yaml</td>\n",
       "      <td>3</td>\n",
       "      <td>source0.yaml</td>\n",
       "      <td>1</td>\n",
       "      <td>bjointsp-heuristic</td>\n",
       "      <td>60.0</td>\n",
       "      <td>61.00</td>\n",
       "      <td>1.00</td>\n",
       "    </tr>\n",
       "    <tr>\n",
       "      <th>1</th>\n",
       "      <td>Airtel.graphml</td>\n",
       "      <td>16</td>\n",
       "      <td>37</td>\n",
       "      <td>fw1chain.yaml</td>\n",
       "      <td>3</td>\n",
       "      <td>source1.yaml</td>\n",
       "      <td>1</td>\n",
       "      <td>bjointsp-heuristic</td>\n",
       "      <td>6.0</td>\n",
       "      <td>6.95</td>\n",
       "      <td>0.95</td>\n",
       "    </tr>\n",
       "    <tr>\n",
       "      <th>2</th>\n",
       "      <td>Airtel.graphml</td>\n",
       "      <td>16</td>\n",
       "      <td>37</td>\n",
       "      <td>fw1chain.yaml</td>\n",
       "      <td>3</td>\n",
       "      <td>source2.yaml</td>\n",
       "      <td>1</td>\n",
       "      <td>bjointsp-heuristic</td>\n",
       "      <td>44.0</td>\n",
       "      <td>45.00</td>\n",
       "      <td>1.00</td>\n",
       "    </tr>\n",
       "    <tr>\n",
       "      <th>3</th>\n",
       "      <td>Airtel.graphml</td>\n",
       "      <td>16</td>\n",
       "      <td>37</td>\n",
       "      <td>fw1chain.yaml</td>\n",
       "      <td>3</td>\n",
       "      <td>source3.yaml</td>\n",
       "      <td>1</td>\n",
       "      <td>bjointsp-heuristic</td>\n",
       "      <td>64.0</td>\n",
       "      <td>65.00</td>\n",
       "      <td>1.00</td>\n",
       "    </tr>\n",
       "    <tr>\n",
       "      <th>4</th>\n",
       "      <td>Airtel.graphml</td>\n",
       "      <td>16</td>\n",
       "      <td>37</td>\n",
       "      <td>fw1chain.yaml</td>\n",
       "      <td>3</td>\n",
       "      <td>source4.yaml</td>\n",
       "      <td>1</td>\n",
       "      <td>bjointsp-heuristic</td>\n",
       "      <td>42.0</td>\n",
       "      <td>42.95</td>\n",
       "      <td>0.95</td>\n",
       "    </tr>\n",
       "  </tbody>\n",
       "</table>\n",
       "</div>"
      ],
      "text/plain": [
       "          network num_nodes num_edges        service num_vnfs       sources  \\\n",
       "0  Airtel.graphml        16        37  fw1chain.yaml        3  source0.yaml   \n",
       "1  Airtel.graphml        16        37  fw1chain.yaml        3  source1.yaml   \n",
       "2  Airtel.graphml        16        37  fw1chain.yaml        3  source2.yaml   \n",
       "3  Airtel.graphml        16        37  fw1chain.yaml        3  source3.yaml   \n",
       "4  Airtel.graphml        16        37  fw1chain.yaml        3  source4.yaml   \n",
       "\n",
       "  num_sources               model  sim_rtt  emu_rtt  rtt_diff  \n",
       "0           1  bjointsp-heuristic     60.0    61.00      1.00  \n",
       "1           1  bjointsp-heuristic      6.0     6.95      0.95  \n",
       "2           1  bjointsp-heuristic     44.0    45.00      1.00  \n",
       "3           1  bjointsp-heuristic     64.0    65.00      1.00  \n",
       "4           1  bjointsp-heuristic     42.0    42.95      0.95  "
      ]
     },
     "execution_count": 65,
     "metadata": {},
     "output_type": "execute_result"
    }
   ],
   "source": [
    "# add RTT difference (as rtt_diff): emu_rtt - sim_rtt\n",
    "chain_df['rtt_diff'] = chain_df['emu_rtt'] - chain_df['sim_rtt']\n",
    "\n",
    "print(chain_df.describe())\n",
    "chain_df.head()"
   ]
  },
  {
   "cell_type": "code",
   "execution_count": 66,
   "metadata": {
    "scrolled": true
   },
   "outputs": [
    {
     "name": "stdout",
     "output_type": "stream",
     "text": [
      "         sim_rtt    emu_rtt   rtt_diff\n",
      "count  90.000000  90.000000  90.000000\n",
      "mean   18.577778  18.914211   0.336433\n",
      "std    21.130402  21.374561   0.246943\n",
      "min     0.000000   0.074000   0.074000\n",
      "25%     0.000000   0.081250   0.081250\n",
      "50%     6.000000   6.251000   0.251000\n",
      "75%    30.000000  30.484500   0.484500\n",
      "max    64.000000  64.836000   0.836000\n"
     ]
    },
    {
     "data": {
      "text/html": [
       "<div>\n",
       "<style>\n",
       "    .dataframe thead tr:only-child th {\n",
       "        text-align: right;\n",
       "    }\n",
       "\n",
       "    .dataframe thead th {\n",
       "        text-align: left;\n",
       "    }\n",
       "\n",
       "    .dataframe tbody tr th {\n",
       "        vertical-align: top;\n",
       "    }\n",
       "</style>\n",
       "<table border=\"1\" class=\"dataframe\">\n",
       "  <thead>\n",
       "    <tr style=\"text-align: right;\">\n",
       "      <th></th>\n",
       "      <th>network</th>\n",
       "      <th>num_nodes</th>\n",
       "      <th>num_edges</th>\n",
       "      <th>service</th>\n",
       "      <th>num_vnfs</th>\n",
       "      <th>sources</th>\n",
       "      <th>num_sources</th>\n",
       "      <th>model</th>\n",
       "      <th>src</th>\n",
       "      <th>dest</th>\n",
       "      <th>sim_rtt</th>\n",
       "      <th>emu_rtt</th>\n",
       "      <th>rtt_diff</th>\n",
       "    </tr>\n",
       "  </thead>\n",
       "  <tbody>\n",
       "    <tr>\n",
       "      <th>0</th>\n",
       "      <td>Airtel.graphml</td>\n",
       "      <td>16</td>\n",
       "      <td>37</td>\n",
       "      <td>fw1chain.yaml</td>\n",
       "      <td>3</td>\n",
       "      <td>source0.yaml</td>\n",
       "      <td>1</td>\n",
       "      <td>bjointsp-heuristic</td>\n",
       "      <td>vnf_user</td>\n",
       "      <td>vnf_fw1</td>\n",
       "      <td>0.0</td>\n",
       "      <td>0.080</td>\n",
       "      <td>0.080</td>\n",
       "    </tr>\n",
       "    <tr>\n",
       "      <th>1</th>\n",
       "      <td>Airtel.graphml</td>\n",
       "      <td>16</td>\n",
       "      <td>37</td>\n",
       "      <td>fw1chain.yaml</td>\n",
       "      <td>3</td>\n",
       "      <td>source0.yaml</td>\n",
       "      <td>1</td>\n",
       "      <td>bjointsp-heuristic</td>\n",
       "      <td>vnf_fw1</td>\n",
       "      <td>vnf_web</td>\n",
       "      <td>60.0</td>\n",
       "      <td>60.787</td>\n",
       "      <td>0.787</td>\n",
       "    </tr>\n",
       "    <tr>\n",
       "      <th>2</th>\n",
       "      <td>Airtel.graphml</td>\n",
       "      <td>16</td>\n",
       "      <td>37</td>\n",
       "      <td>fw1chain.yaml</td>\n",
       "      <td>3</td>\n",
       "      <td>source1.yaml</td>\n",
       "      <td>1</td>\n",
       "      <td>bjointsp-heuristic</td>\n",
       "      <td>vnf_user</td>\n",
       "      <td>vnf_fw1</td>\n",
       "      <td>0.0</td>\n",
       "      <td>0.082</td>\n",
       "      <td>0.082</td>\n",
       "    </tr>\n",
       "    <tr>\n",
       "      <th>3</th>\n",
       "      <td>Airtel.graphml</td>\n",
       "      <td>16</td>\n",
       "      <td>37</td>\n",
       "      <td>fw1chain.yaml</td>\n",
       "      <td>3</td>\n",
       "      <td>source1.yaml</td>\n",
       "      <td>1</td>\n",
       "      <td>bjointsp-heuristic</td>\n",
       "      <td>vnf_fw1</td>\n",
       "      <td>vnf_web</td>\n",
       "      <td>6.0</td>\n",
       "      <td>6.236</td>\n",
       "      <td>0.236</td>\n",
       "    </tr>\n",
       "    <tr>\n",
       "      <th>4</th>\n",
       "      <td>Airtel.graphml</td>\n",
       "      <td>16</td>\n",
       "      <td>37</td>\n",
       "      <td>fw1chain.yaml</td>\n",
       "      <td>3</td>\n",
       "      <td>source2.yaml</td>\n",
       "      <td>1</td>\n",
       "      <td>bjointsp-heuristic</td>\n",
       "      <td>vnf_user</td>\n",
       "      <td>vnf_fw1</td>\n",
       "      <td>0.0</td>\n",
       "      <td>0.083</td>\n",
       "      <td>0.083</td>\n",
       "    </tr>\n",
       "  </tbody>\n",
       "</table>\n",
       "</div>"
      ],
      "text/plain": [
       "          network num_nodes num_edges        service num_vnfs       sources  \\\n",
       "0  Airtel.graphml        16        37  fw1chain.yaml        3  source0.yaml   \n",
       "1  Airtel.graphml        16        37  fw1chain.yaml        3  source0.yaml   \n",
       "2  Airtel.graphml        16        37  fw1chain.yaml        3  source1.yaml   \n",
       "3  Airtel.graphml        16        37  fw1chain.yaml        3  source1.yaml   \n",
       "4  Airtel.graphml        16        37  fw1chain.yaml        3  source2.yaml   \n",
       "\n",
       "  num_sources               model       src     dest  sim_rtt  emu_rtt  \\\n",
       "0           1  bjointsp-heuristic  vnf_user  vnf_fw1      0.0    0.080   \n",
       "1           1  bjointsp-heuristic   vnf_fw1  vnf_web     60.0   60.787   \n",
       "2           1  bjointsp-heuristic  vnf_user  vnf_fw1      0.0    0.082   \n",
       "3           1  bjointsp-heuristic   vnf_fw1  vnf_web      6.0    6.236   \n",
       "4           1  bjointsp-heuristic  vnf_user  vnf_fw1      0.0    0.083   \n",
       "\n",
       "   rtt_diff  \n",
       "0     0.080  \n",
       "1     0.787  \n",
       "2     0.082  \n",
       "3     0.236  \n",
       "4     0.083  "
      ]
     },
     "execution_count": 66,
     "metadata": {},
     "output_type": "execute_result"
    }
   ],
   "source": [
    "vnf_df['rtt_diff'] = vnf_df['emu_rtt'] - vnf_df['sim_rtt']\n",
    "\n",
    "print(vnf_df.describe())\n",
    "vnf_df.head()"
   ]
  },
  {
   "cell_type": "markdown",
   "metadata": {},
   "source": [
    "## Chain RTT\n",
    "\n",
    "Let's start by analyzing the RTT of the whole chain."
   ]
  },
  {
   "cell_type": "code",
   "execution_count": 67,
   "metadata": {},
   "outputs": [],
   "source": [
    "# create helper df with separate rows for each RTT and a type (sim or emu)\n",
    "# for easier plotting later\n",
    "chain_sim_df = chain_df[input_cols].copy()\n",
    "chain_sim_df['rtt'] = chain_df['sim_rtt']\n",
    "chain_sim_df['type'] = 'sim'\n",
    "\n",
    "chain_emu_df = chain_df[input_cols].copy()\n",
    "chain_emu_df['rtt'] = chain_df['emu_rtt']\n",
    "chain_emu_df['type'] = 'emu'\n",
    "\n",
    "chain_df2 = pd.concat([chain_sim_df, chain_emu_df])"
   ]
  },
  {
   "cell_type": "code",
   "execution_count": 68,
   "metadata": {},
   "outputs": [
    {
     "data": {
      "text/plain": [
       "Text(0.5,1,'Chain RTT comparison')"
      ]
     },
     "execution_count": 68,
     "metadata": {},
     "output_type": "execute_result"
    },
    {
     "data": {
      "image/png": "[encoded data removed]",
      "text/plain": [
       "<matplotlib.figure.Figure at 0x1cbfd94d828>"
      ]
     },
     "metadata": {},
     "output_type": "display_data"
    }
   ],
   "source": [
    "# chain delay boxplots\n",
    "sns.boxplot(x='num_vnfs', y='rtt', hue='type', data=chain_df2).set_title('Chain RTT comparison')"
   ]
  },
  {
   "cell_type": "code",
   "execution_count": 69,
   "metadata": {},
   "outputs": [
    {
     "data": {
      "text/plain": [
       "Text(0.5,1,'Chain RTT difference')"
      ]
     },
     "execution_count": 69,
     "metadata": {},
     "output_type": "execute_result"
    },
    {
     "data": {
      "image/png": "[encoded data removed]",
      "text/plain": [
       "<matplotlib.figure.Figure at 0x1cb8119b710>"
      ]
     },
     "metadata": {},
     "output_type": "display_data"
    }
   ],
   "source": [
    "sns.boxplot(x='num_vnfs', y='rtt_diff', data=chain_df).set_title('Chain RTT difference')"
   ]
  },
  {
   "cell_type": "markdown",
   "metadata": {},
   "source": [
    "Chain delays seem to be very similar comparing simulation and emulation (upper figure). \n",
    "\n",
    "But when looking at the difference in RTT (lower figure), the emulation delay is clearly higher than the simulation delay. And the difference between the two increases with increasing chain length. There is surprisingly little deviation in rtt_diff for each chain length."
   ]
  },
  {
   "cell_type": "markdown",
   "metadata": {},
   "source": [
    "## Inter-VNF RTT\n",
    "Let's do the same for inter-VNF delays/RTTs."
   ]
  },
  {
   "cell_type": "code",
   "execution_count": 70,
   "metadata": {},
   "outputs": [],
   "source": [
    "vnf_sim_df = vnf_df[input_cols + ['src', 'dest']].copy()\n",
    "vnf_sim_df['rtt'] = vnf_df['sim_rtt']\n",
    "vnf_sim_df['type'] = 'sim'\n",
    "\n",
    "vnf_emu_df = vnf_df[input_cols + ['src', 'dest']].copy()\n",
    "vnf_emu_df['rtt'] = vnf_df['emu_rtt']\n",
    "vnf_emu_df['type'] = 'emu'\n",
    "\n",
    "vnf_df2 = pd.concat([vnf_sim_df, vnf_emu_df])"
   ]
  },
  {
   "cell_type": "code",
   "execution_count": 71,
   "metadata": {},
   "outputs": [
    {
     "data": {
      "text/plain": [
       "Text(0.5,1,'Inter-VNF RTT comparison')"
      ]
     },
     "execution_count": 71,
     "metadata": {},
     "output_type": "execute_result"
    },
    {
     "data": {
      "image/png": "[encoded data removed]",
      "text/plain": [
       "<matplotlib.figure.Figure at 0x1cbfdb4c4a8>"
      ]
     },
     "metadata": {},
     "output_type": "display_data"
    }
   ],
   "source": [
    "sns.boxplot(x='type', y='rtt', data=vnf_df2).set_title('Inter-VNF RTT comparison')"
   ]
  },
  {
   "cell_type": "code",
   "execution_count": 72,
   "metadata": {},
   "outputs": [
    {
     "data": {
      "text/plain": [
       "Text(0.5,1,'Inter-VNF RTT difference')"
      ]
     },
     "execution_count": 72,
     "metadata": {},
     "output_type": "execute_result"
    },
    {
     "data": {
      "image/png": "[encoded data removed]",
      "text/plain": [
       "<matplotlib.figure.Figure at 0x1cb813862b0>"
      ]
     },
     "metadata": {},
     "output_type": "display_data"
    }
   ],
   "source": [
    "sns.boxplot(y='rtt_diff', data=vnf_df).set_title('Inter-VNF RTT difference')"
   ]
  },
  {
   "cell_type": "markdown",
   "metadata": {},
   "source": [
    "**Upper**: Again, very similar inter-VNF RTTs in simulation and emulation.\n",
    "\n",
    "**Lower**: Here, the difference is much smaller than it was in whole chains (less than 1 ms). However, the spread is much higher than for chains. We should analyze that further."
   ]
  }
 ],
 "metadata": {
  "kernelspec": {
   "display_name": "Python 3",
   "language": "python",
   "name": "python3"
  },
  "language_info": {
   "codemirror_mode": {
    "name": "ipython",
    "version": 3
   },
   "file_extension": ".py",
   "mimetype": "text/x-python",
   "name": "python",
   "nbconvert_exporter": "python",
   "pygments_lexer": "ipython3",
   "version": "3.6.3"
  }
 },
 "nbformat": 4,
 "nbformat_minor": 1
}
