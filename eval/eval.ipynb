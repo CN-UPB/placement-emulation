{
 "cells": [
  {
   "cell_type": "markdown",
   "metadata": {
    "collapsed": true
   },
   "source": [
    "# First evaluation insights\n",
    "So far just copied from eval.py but meant to be used for more strucutred plotting and analysis."
   ]
  },
  {
   "cell_type": "code",
   "execution_count": 25,
   "metadata": {
    "collapsed": true
   },
   "outputs": [],
   "source": [
    "%matplotlib inline\n",
    "import glob\n",
    "import yaml\n",
    "import pandas as pd\n",
    "import matplotlib.pyplot as plt\n",
    "import seaborn as sns\n",
    "\n",
    "\n",
    "# network prefix to filter results\n",
    "prefix = 'Airtel'"
   ]
  },
  {
   "cell_type": "markdown",
   "metadata": {},
   "source": [
    "Airtel is a medium-large network with nodes far away from each other. This leads to high link delays and lower impact of rounding link delays to full integers, which was a problem with the very dense Colt network.\n",
    "\n",
    "![Airtel](http://topology-zoo.org/maps/Airtel.jpg)"
   ]
  },
  {
   "cell_type": "code",
   "execution_count": 26,
   "metadata": {
    "collapsed": true
   },
   "outputs": [],
   "source": [
    "# load emulation results and calculate RTT\n",
    "emu_results = glob.glob('emulation/{}*.yaml'.format(prefix))\n",
    "emu_delays = []\n",
    "for result_file in emu_results:\n",
    "    with open(result_file, 'r') as f:\n",
    "        result = yaml.load(f)\n",
    "\n",
    "        # chain delays = httping = TCP handshake = 2x RTT\n",
    "        result['chain_rtt'] = result['chain_delay']['delay'] / 2\n",
    "\n",
    "        # vnf delays = ping = RTT\n",
    "        for delay in result['delays']:\n",
    "            delay['rtt'] = delay['delay']\n",
    "\n",
    "        emu_delays.append(result)"
   ]
  },
  {
   "cell_type": "code",
   "execution_count": 27,
   "metadata": {
    "collapsed": true
   },
   "outputs": [],
   "source": [
    "# load simulation results and calculate RTT (from bjointsp)\n",
    "sim_results = glob.glob('bjointsp/{}*.yaml'.format(prefix))\n",
    "sim_delays = []\n",
    "for result_file in sim_results:\n",
    "    with open(result_file, 'r') as f:\n",
    "        result = yaml.load(f)\n",
    "\n",
    "        # one-way = RTT/2\n",
    "        result['chain_rtt'] = result['metrics']['total_delay'] * 2\n",
    "        for delay in result['metrics']['delays']:\n",
    "            delay['rtt'] = delay['delay'] * 2\n",
    "\n",
    "        sim_delays.append(result)"
   ]
  },
  {
   "cell_type": "markdown",
   "metadata": {},
   "source": [
    "Combine the results from emulation and simulation:\n",
    "1. Sort and match results for chain and inter-VNF delays\n",
    "2. Create ordered data frame for easier comparison and evaluation"
   ]
  },
  {
   "cell_type": "code",
   "execution_count": 28,
   "metadata": {
    "collapsed": true
   },
   "outputs": [],
   "source": [
    "# create empty data frames\n",
    "input_cols = ['network', 'num_nodes', 'num_edges', 'service', 'num_vnfs', 'sources', 'num_sources', 'model']\n",
    "chain_df = pd.DataFrame(columns=input_cols + ['sim_rtt', 'emu_rtt'])\n",
    "vnf_df = pd.DataFrame(columns=input_cols + ['src', 'dest', 'sim_rtt', 'emu_rtt'])\n",
    "chain_index = 0\n",
    "vnf_index = 0\n",
    "\n",
    "# TODO: clean up\n",
    "# match and sort chain and inter-VNF RTTs and insert into data frames\n",
    "emu_chain_rtt, sim_chain_rtt = [], []\n",
    "emu_vnf_rtt, sim_vnf_rtt = [], []\n",
    "for emu in emu_delays:\n",
    "    for sim in sim_delays:\n",
    "        # match chain delays (same input: network, service, sources)\n",
    "        if emu['input']['network'].endswith(sim['input']['network']) \\\n",
    "                and emu['input']['service'].endswith(sim['input']['service']) \\\n",
    "                and emu['input']['sources'].endswith(sim['input']['sources']):\n",
    "            emu_chain_rtt.append(emu['chain_rtt'])\n",
    "            sim_chain_rtt.append(sim['chain_rtt'])\n",
    "            \n",
    "            # insert into data frame\n",
    "            inputs = [sim['input']['network'], sim['input']['num_nodes'], sim['input']['num_edges'], \n",
    "                      sim['input']['service'], sim['input']['num_vnfs'],\n",
    "                      sim['input']['sources'], sim['input']['num_sources'], sim['input']['model']]\n",
    "            # somehow the simulation RTT needs to be cast to float explicitly\n",
    "            chain_df.loc[chain_index] = inputs + [float(sim['chain_rtt']), emu['chain_rtt']]\n",
    "            chain_index += 1\n",
    "\n",
    "            # match inter-VNF RTTs (same input + src, dest)\n",
    "            for emu_vnf in emu['delays']:\n",
    "                for sim_vnf in sim['metrics']['delays']:\n",
    "                    if emu_vnf['src'] == sim_vnf['src'] and emu_vnf['dest'] == sim_vnf['dest']:\n",
    "                        emu_vnf_rtt.append(emu_vnf['rtt'])\n",
    "                        sim_vnf_rtt.append(sim_vnf['rtt'])\n",
    "                        \n",
    "                        # insert into data frame\n",
    "                        vnf_df.loc[vnf_index] = inputs + [sim_vnf['src'], sim_vnf['dest'], float(sim_vnf['rtt']), emu_vnf['rtt']]\n",
    "                        vnf_index += 1"
   ]
  },
  {
   "cell_type": "code",
   "execution_count": 29,
   "metadata": {},
   "outputs": [
    {
     "name": "stdout",
     "output_type": "stream",
     "text": [
      "          sim_rtt     emu_rtt\n",
      "count   30.000000   30.000000\n",
      "mean    55.733333   57.373333\n",
      "std     33.891239   34.203400\n",
      "min      6.000000    6.950000\n",
      "25%     34.500000   36.150000\n",
      "50%     50.000000   51.975000\n",
      "75%     72.500000   74.312500\n",
      "max    138.000000  140.300000\n"
     ]
    },
    {
     "data": {
      "text/html": [
       "<div>\n",
       "<style>\n",
       "    .dataframe thead tr:only-child th {\n",
       "        text-align: right;\n",
       "    }\n",
       "\n",
       "    .dataframe thead th {\n",
       "        text-align: left;\n",
       "    }\n",
       "\n",
       "    .dataframe tbody tr th {\n",
       "        vertical-align: top;\n",
       "    }\n",
       "</style>\n",
       "<table border=\"1\" class=\"dataframe\">\n",
       "  <thead>\n",
       "    <tr style=\"text-align: right;\">\n",
       "      <th></th>\n",
       "      <th>network</th>\n",
       "      <th>num_nodes</th>\n",
       "      <th>num_edges</th>\n",
       "      <th>service</th>\n",
       "      <th>num_vnfs</th>\n",
       "      <th>sources</th>\n",
       "      <th>num_sources</th>\n",
       "      <th>model</th>\n",
       "      <th>sim_rtt</th>\n",
       "      <th>emu_rtt</th>\n",
       "    </tr>\n",
       "  </thead>\n",
       "  <tbody>\n",
       "    <tr>\n",
       "      <th>0</th>\n",
       "      <td>Airtel.graphml</td>\n",
       "      <td>16</td>\n",
       "      <td>37</td>\n",
       "      <td>fw1chain.yaml</td>\n",
       "      <td>3</td>\n",
       "      <td>source0.yaml</td>\n",
       "      <td>1</td>\n",
       "      <td>bjointsp-heuristic</td>\n",
       "      <td>60.0</td>\n",
       "      <td>61.00</td>\n",
       "    </tr>\n",
       "    <tr>\n",
       "      <th>1</th>\n",
       "      <td>Airtel.graphml</td>\n",
       "      <td>16</td>\n",
       "      <td>37</td>\n",
       "      <td>fw1chain.yaml</td>\n",
       "      <td>3</td>\n",
       "      <td>source1.yaml</td>\n",
       "      <td>1</td>\n",
       "      <td>bjointsp-heuristic</td>\n",
       "      <td>6.0</td>\n",
       "      <td>6.95</td>\n",
       "    </tr>\n",
       "    <tr>\n",
       "      <th>2</th>\n",
       "      <td>Airtel.graphml</td>\n",
       "      <td>16</td>\n",
       "      <td>37</td>\n",
       "      <td>fw1chain.yaml</td>\n",
       "      <td>3</td>\n",
       "      <td>source2.yaml</td>\n",
       "      <td>1</td>\n",
       "      <td>bjointsp-heuristic</td>\n",
       "      <td>44.0</td>\n",
       "      <td>45.00</td>\n",
       "    </tr>\n",
       "    <tr>\n",
       "      <th>3</th>\n",
       "      <td>Airtel.graphml</td>\n",
       "      <td>16</td>\n",
       "      <td>37</td>\n",
       "      <td>fw1chain.yaml</td>\n",
       "      <td>3</td>\n",
       "      <td>source3.yaml</td>\n",
       "      <td>1</td>\n",
       "      <td>bjointsp-heuristic</td>\n",
       "      <td>64.0</td>\n",
       "      <td>65.00</td>\n",
       "    </tr>\n",
       "    <tr>\n",
       "      <th>4</th>\n",
       "      <td>Airtel.graphml</td>\n",
       "      <td>16</td>\n",
       "      <td>37</td>\n",
       "      <td>fw1chain.yaml</td>\n",
       "      <td>3</td>\n",
       "      <td>source4.yaml</td>\n",
       "      <td>1</td>\n",
       "      <td>bjointsp-heuristic</td>\n",
       "      <td>42.0</td>\n",
       "      <td>42.95</td>\n",
       "    </tr>\n",
       "  </tbody>\n",
       "</table>\n",
       "</div>"
      ],
      "text/plain": [
       "          network num_nodes num_edges        service num_vnfs       sources  \\\n",
       "0  Airtel.graphml        16        37  fw1chain.yaml        3  source0.yaml   \n",
       "1  Airtel.graphml        16        37  fw1chain.yaml        3  source1.yaml   \n",
       "2  Airtel.graphml        16        37  fw1chain.yaml        3  source2.yaml   \n",
       "3  Airtel.graphml        16        37  fw1chain.yaml        3  source3.yaml   \n",
       "4  Airtel.graphml        16        37  fw1chain.yaml        3  source4.yaml   \n",
       "\n",
       "  num_sources               model  sim_rtt  emu_rtt  \n",
       "0           1  bjointsp-heuristic     60.0    61.00  \n",
       "1           1  bjointsp-heuristic      6.0     6.95  \n",
       "2           1  bjointsp-heuristic     44.0    45.00  \n",
       "3           1  bjointsp-heuristic     64.0    65.00  \n",
       "4           1  bjointsp-heuristic     42.0    42.95  "
      ]
     },
     "execution_count": 29,
     "metadata": {},
     "output_type": "execute_result"
    }
   ],
   "source": [
    "print(chain_df.describe())\n",
    "chain_df.head()"
   ]
  },
  {
   "cell_type": "code",
   "execution_count": 30,
   "metadata": {},
   "outputs": [
    {
     "name": "stdout",
     "output_type": "stream",
     "text": [
      "         sim_rtt    emu_rtt\n",
      "count  90.000000  90.000000\n",
      "mean   18.577778  18.914211\n",
      "std    21.130402  21.374561\n",
      "min     0.000000   0.074000\n",
      "25%     0.000000   0.081250\n",
      "50%     6.000000   6.251000\n",
      "75%    30.000000  30.484500\n",
      "max    64.000000  64.836000\n"
     ]
    },
    {
     "data": {
      "text/html": [
       "<div>\n",
       "<style>\n",
       "    .dataframe thead tr:only-child th {\n",
       "        text-align: right;\n",
       "    }\n",
       "\n",
       "    .dataframe thead th {\n",
       "        text-align: left;\n",
       "    }\n",
       "\n",
       "    .dataframe tbody tr th {\n",
       "        vertical-align: top;\n",
       "    }\n",
       "</style>\n",
       "<table border=\"1\" class=\"dataframe\">\n",
       "  <thead>\n",
       "    <tr style=\"text-align: right;\">\n",
       "      <th></th>\n",
       "      <th>network</th>\n",
       "      <th>num_nodes</th>\n",
       "      <th>num_edges</th>\n",
       "      <th>service</th>\n",
       "      <th>num_vnfs</th>\n",
       "      <th>sources</th>\n",
       "      <th>num_sources</th>\n",
       "      <th>model</th>\n",
       "      <th>src</th>\n",
       "      <th>dest</th>\n",
       "      <th>sim_rtt</th>\n",
       "      <th>emu_rtt</th>\n",
       "    </tr>\n",
       "  </thead>\n",
       "  <tbody>\n",
       "    <tr>\n",
       "      <th>0</th>\n",
       "      <td>Airtel.graphml</td>\n",
       "      <td>16</td>\n",
       "      <td>37</td>\n",
       "      <td>fw1chain.yaml</td>\n",
       "      <td>3</td>\n",
       "      <td>source0.yaml</td>\n",
       "      <td>1</td>\n",
       "      <td>bjointsp-heuristic</td>\n",
       "      <td>vnf_user</td>\n",
       "      <td>vnf_fw1</td>\n",
       "      <td>0.0</td>\n",
       "      <td>0.080</td>\n",
       "    </tr>\n",
       "    <tr>\n",
       "      <th>1</th>\n",
       "      <td>Airtel.graphml</td>\n",
       "      <td>16</td>\n",
       "      <td>37</td>\n",
       "      <td>fw1chain.yaml</td>\n",
       "      <td>3</td>\n",
       "      <td>source0.yaml</td>\n",
       "      <td>1</td>\n",
       "      <td>bjointsp-heuristic</td>\n",
       "      <td>vnf_fw1</td>\n",
       "      <td>vnf_web</td>\n",
       "      <td>60.0</td>\n",
       "      <td>60.787</td>\n",
       "    </tr>\n",
       "    <tr>\n",
       "      <th>2</th>\n",
       "      <td>Airtel.graphml</td>\n",
       "      <td>16</td>\n",
       "      <td>37</td>\n",
       "      <td>fw1chain.yaml</td>\n",
       "      <td>3</td>\n",
       "      <td>source1.yaml</td>\n",
       "      <td>1</td>\n",
       "      <td>bjointsp-heuristic</td>\n",
       "      <td>vnf_user</td>\n",
       "      <td>vnf_fw1</td>\n",
       "      <td>0.0</td>\n",
       "      <td>0.082</td>\n",
       "    </tr>\n",
       "    <tr>\n",
       "      <th>3</th>\n",
       "      <td>Airtel.graphml</td>\n",
       "      <td>16</td>\n",
       "      <td>37</td>\n",
       "      <td>fw1chain.yaml</td>\n",
       "      <td>3</td>\n",
       "      <td>source1.yaml</td>\n",
       "      <td>1</td>\n",
       "      <td>bjointsp-heuristic</td>\n",
       "      <td>vnf_fw1</td>\n",
       "      <td>vnf_web</td>\n",
       "      <td>6.0</td>\n",
       "      <td>6.236</td>\n",
       "    </tr>\n",
       "    <tr>\n",
       "      <th>4</th>\n",
       "      <td>Airtel.graphml</td>\n",
       "      <td>16</td>\n",
       "      <td>37</td>\n",
       "      <td>fw1chain.yaml</td>\n",
       "      <td>3</td>\n",
       "      <td>source2.yaml</td>\n",
       "      <td>1</td>\n",
       "      <td>bjointsp-heuristic</td>\n",
       "      <td>vnf_user</td>\n",
       "      <td>vnf_fw1</td>\n",
       "      <td>0.0</td>\n",
       "      <td>0.083</td>\n",
       "    </tr>\n",
       "  </tbody>\n",
       "</table>\n",
       "</div>"
      ],
      "text/plain": [
       "          network num_nodes num_edges        service num_vnfs       sources  \\\n",
       "0  Airtel.graphml        16        37  fw1chain.yaml        3  source0.yaml   \n",
       "1  Airtel.graphml        16        37  fw1chain.yaml        3  source0.yaml   \n",
       "2  Airtel.graphml        16        37  fw1chain.yaml        3  source1.yaml   \n",
       "3  Airtel.graphml        16        37  fw1chain.yaml        3  source1.yaml   \n",
       "4  Airtel.graphml        16        37  fw1chain.yaml        3  source2.yaml   \n",
       "\n",
       "  num_sources               model       src     dest  sim_rtt  emu_rtt  \n",
       "0           1  bjointsp-heuristic  vnf_user  vnf_fw1      0.0    0.080  \n",
       "1           1  bjointsp-heuristic   vnf_fw1  vnf_web     60.0   60.787  \n",
       "2           1  bjointsp-heuristic  vnf_user  vnf_fw1      0.0    0.082  \n",
       "3           1  bjointsp-heuristic   vnf_fw1  vnf_web      6.0    6.236  \n",
       "4           1  bjointsp-heuristic  vnf_user  vnf_fw1      0.0    0.083  "
      ]
     },
     "execution_count": 30,
     "metadata": {},
     "output_type": "execute_result"
    }
   ],
   "source": [
    "print(vnf_df.describe())\n",
    "vnf_df.head()"
   ]
  },
  {
   "cell_type": "markdown",
   "metadata": {},
   "source": [
    "## TODO: better do this data collection, ordering, etc in a script that writes the results to csv then only read the csv in the notebook\n",
    "really? If I clean up the code above, it's quite ok.\n",
    "Then just add extra columns, eg, for emu_rtt-sim_rtt or for std\n",
    "And use the data frames for easier and nicer plotting (with seaborn?)"
   ]
  },
  {
   "cell_type": "code",
   "execution_count": 31,
   "metadata": {},
   "outputs": [
    {
     "data": {
      "image/png": "[encoded data removed]",
      "text/plain": [
       "<matplotlib.figure.Figure at 0x1e1887db9b0>"
      ]
     },
     "metadata": {},
     "output_type": "display_data"
    }
   ],
   "source": [
    "# 1.1 chain delays\n",
    "x_chain = range(len(emu_delays))\n",
    "plt.figure(1)\n",
    "plt.subplot(2, 1, 1)\n",
    "plt.plot(x_chain, emu_chain_rtt, 'g^', x_chain, sim_chain_rtt, 'bs')\n",
    "# plt.xticks(x_chain, sim_chain_length)\n",
    "plt.legend(['Emulation', 'Placement (simulation)'])\n",
    "plt.ylabel('Absolute')\n",
    "plt.title('Chain RTT (in ms)')\n",
    "\n",
    "# 1.2 chain delay difference emu - sim\n",
    "chain_diffs = [emu_chain_rtt[i]-sim_chain_rtt[i] for i in range(len(emu_chain_rtt))]\n",
    "plt.subplot(2, 1, 2)\n",
    "plt.plot(x_chain, chain_diffs)\n",
    "# plt.xticks(x_chain, sim_chain_length)\n",
    "plt.xlabel('Different service/source combinations')\n",
    "plt.ylabel('RTT difference')\n",
    "\n",
    "# FIXME: saving doesn't seem to work\n",
    "plt.savefig('plots/{}-chainRtt.pdf'.format(prefix), bbox_inches='tight') \n",
    "plt.show()"
   ]
  },
  {
   "cell_type": "markdown",
   "metadata": {},
   "source": [
    "Again, also for Airtel, there are clear steps at 10, 20, showing the impact of different chain lengths (10x fw1, 10x fw2, 10x fw3). TODO: Directly show chain lengths."
   ]
  },
  {
   "cell_type": "code",
   "execution_count": 32,
   "metadata": {},
   "outputs": [
    {
     "data": {
      "image/png": "[encoded data removed]",
      "text/plain": [
       "<matplotlib.figure.Figure at 0x1e1896ac6d8>"
      ]
     },
     "metadata": {},
     "output_type": "display_data"
    }
   ],
   "source": [
    "# 2.1 inter-VNF delays\n",
    "x_vnfs = range(len(emu_vnf_rtt))\n",
    "plt.figure(2)\n",
    "plt.subplot(2, 1, 1)\n",
    "plt.plot(x_vnfs, emu_vnf_rtt, 'g^', x_vnfs, sim_vnf_rtt, 'bs')\n",
    "# plt.errorbar(x_vnfs, emu_vnf_rtt, yerr=emu_vnf_std, fmt='none', ecolor='black', capsize=2)\n",
    "# plt.xticks(x_vnfs, sim_vnf_length)\n",
    "plt.legend(['Emulation', 'Placement (simulation)'])\n",
    "plt.ylabel('Absolute')\n",
    "plt.title('Inter-VNF RTT (in ms)')\n",
    "\n",
    "# 2.2 inter-VNF delay difference: emu - sim\n",
    "vnf_diffs = [emu_vnf_rtt[i]-sim_vnf_rtt[i] for i in range(len(emu_vnf_rtt))]\n",
    "plt.subplot(2, 1, 2)\n",
    "plt.plot(x_vnfs, vnf_diffs)\n",
    "# plt.xticks(x_vnfs, sim_vnf_length)\n",
    "plt.xlabel('Different service/source combinations')\n",
    "plt.ylabel('RTT difference')\n",
    "\n",
    "plt.savefig('plots/{}-vnfRtt.pdf'.format(prefix), bbox_inches='tight')\n",
    "plt.show()"
   ]
  },
  {
   "cell_type": "code",
   "execution_count": null,
   "metadata": {
    "collapsed": true
   },
   "outputs": [],
   "source": []
  }
 ],
 "metadata": {
  "kernelspec": {
   "display_name": "Python 3",
   "language": "python",
   "name": "python3"
  },
  "language_info": {
   "codemirror_mode": {
    "name": "ipython",
    "version": 3
   },
   "file_extension": ".py",
   "mimetype": "text/x-python",
   "name": "python",
   "nbconvert_exporter": "python",
   "pygments_lexer": "ipython3",
   "version": "3.6.3"
  }
 },
 "nbformat": 4,
 "nbformat_minor": 1
}
