{
 "cells": [
  {
   "cell_type": "markdown",
   "metadata": {},
   "source": [
    "# Complete evaluation of 3 algorithms on 3 networks\n",
    "\n",
    "**Inputs:**\n",
    "* Algorithms: bjointsp, random, greedy\n",
    "* Network: Abilene, Airtel, Colt\n",
    "* Service: fw1chain, fw2chain, fw3chain\n",
    "* Sources: source0-9\n",
    "\n",
    "![Abilene](http://topology-zoo.org/maps/Abilene.jpg)\n",
    "\n",
    "Due to its small size, Abilene is the standard network for evaluating placement algorithms. 11 nodes, 14 edges.\n",
    "\n",
    "![Airtel](http://topology-zoo.org/maps/Airtel.jpg)\n",
    "\n",
    "Airtel is still quite small but has much larger distances, leading to higher link delays. Here, rounding delays to full integers (in ms) has a relatively smaller effect than in the other networks. 16 nodes, 37 edges.\n",
    "\n",
    "![Colt](http://topology-zoo.org/maps/Colt.jpg)\n",
    "\n",
    "Colt is much larger (more nodes and edges) but has many short edges with delays below 1 ms. Rounding affects these delays strongly and even leads to some link delays being set to 0 ms. 153 nodes, 191 edges."
   ]
  },
  {
   "cell_type": "code",
   "execution_count": 1,
   "metadata": {
    "collapsed": true
   },
   "outputs": [],
   "source": [
    "%matplotlib inline\n",
    "import pandas as pd\n",
    "import numpy as np\n",
    "import matplotlib.pyplot as plt\n",
    "import seaborn as sns\n",
    "\n",
    "# include and import util/eval.py\n",
    "import os\n",
    "import sys\n",
    "module_path = os.path.abspath(os.path.join('..'))\n",
    "if module_path not in sys.path:\n",
    "    sys.path.append(module_path) \n",
    "from util import eval"
   ]
  },
  {
   "cell_type": "code",
   "execution_count": 2,
   "metadata": {},
   "outputs": [],
   "source": [
    "# load all results into four dataframes (described below)\n",
    "chain_df = pd.DataFrame()\n",
    "aux_chain_df = pd.DataFrame()\n",
    "vnf_df = pd.DataFrame()\n",
    "aux_vnf_df = pd.DataFrame()\n",
    "\n",
    "networks = ['Abilene', 'Airtel', 'Colt']\n",
    "algorithms = ['bjointsp', 'random', 'greedy']\n",
    "for net in networks:\n",
    "    for alg in algorithms:\n",
    "        chain, aux_chain, vnf, aux_vnf = eval.prepare_eval(net, alg)\n",
    "        chain_df = pd.concat([chain_df, chain])\n",
    "        aux_chain_df = pd.concat([aux_chain_df, aux_chain])\n",
    "        vnf_df = pd.concat([vnf_df, vnf])\n",
    "        aux_vnf_df = pd.concat([aux_vnf_df, aux_vnf])"
   ]
  },
  {
   "cell_type": "markdown",
   "metadata": {},
   "source": [
    "There are four different pandas dataframes:\n",
    "\n",
    "*chain_df* contains the delays (RTTs) of the whole chain and *vnf_df* contains the inter-VNF delays. They have separate columns for the simulation and emulation RTTs and additional columns for the difference and the ratio between simulation and emulation RTT.\n",
    "\n",
    "For easier plotting later, *aux_chain_df* and *aux_vnf_df* contain the same data as *chain_df* and *vnf_df*, respectiveley, just in a different structure: Here, there is just one column called 'rtt'. Simulation and emulation delays are stored in the same column in different rows. They are distinguished by a new column 'type' that is either 'sim' or 'emu', classifying the type of RTT.\n",
    "\n",
    "For better intuition, see the tables below."
   ]
  },
  {
   "cell_type": "code",
   "execution_count": 4,
   "metadata": {},
   "outputs": [
    {
     "data": {
      "text/html": [
       "<div>\n",
       "<style>\n",
       "    .dataframe thead tr:only-child th {\n",
       "        text-align: right;\n",
       "    }\n",
       "\n",
       "    .dataframe thead th {\n",
       "        text-align: left;\n",
       "    }\n",
       "\n",
       "    .dataframe tbody tr th {\n",
       "        vertical-align: top;\n",
       "    }\n",
       "</style>\n",
       "<table border=\"1\" class=\"dataframe\">\n",
       "  <thead>\n",
       "    <tr style=\"text-align: right;\">\n",
       "      <th></th>\n",
       "      <th>network</th>\n",
       "      <th>num_nodes</th>\n",
       "      <th>num_edges</th>\n",
       "      <th>service</th>\n",
       "      <th>num_vnfs</th>\n",
       "      <th>sources</th>\n",
       "      <th>num_sources</th>\n",
       "      <th>algorithm</th>\n",
       "      <th>sim_rtt</th>\n",
       "      <th>emu_rtt</th>\n",
       "      <th>rtt_diff</th>\n",
       "      <th>rtt_ratio</th>\n",
       "    </tr>\n",
       "  </thead>\n",
       "  <tbody>\n",
       "    <tr>\n",
       "      <th>0</th>\n",
       "      <td>Abilene</td>\n",
       "      <td>11</td>\n",
       "      <td>14</td>\n",
       "      <td>fw1chain</td>\n",
       "      <td>3</td>\n",
       "      <td>source0</td>\n",
       "      <td>1</td>\n",
       "      <td>bjointsp</td>\n",
       "      <td>6.0</td>\n",
       "      <td>7.1</td>\n",
       "      <td>1.1</td>\n",
       "      <td>1.183333</td>\n",
       "    </tr>\n",
       "    <tr>\n",
       "      <th>1</th>\n",
       "      <td>Abilene</td>\n",
       "      <td>11</td>\n",
       "      <td>14</td>\n",
       "      <td>fw1chain</td>\n",
       "      <td>3</td>\n",
       "      <td>source1</td>\n",
       "      <td>1</td>\n",
       "      <td>bjointsp</td>\n",
       "      <td>6.0</td>\n",
       "      <td>7.1</td>\n",
       "      <td>1.1</td>\n",
       "      <td>1.183333</td>\n",
       "    </tr>\n",
       "    <tr>\n",
       "      <th>2</th>\n",
       "      <td>Abilene</td>\n",
       "      <td>11</td>\n",
       "      <td>14</td>\n",
       "      <td>fw1chain</td>\n",
       "      <td>3</td>\n",
       "      <td>source2</td>\n",
       "      <td>1</td>\n",
       "      <td>bjointsp</td>\n",
       "      <td>8.0</td>\n",
       "      <td>9.1</td>\n",
       "      <td>1.1</td>\n",
       "      <td>1.137500</td>\n",
       "    </tr>\n",
       "    <tr>\n",
       "      <th>3</th>\n",
       "      <td>Abilene</td>\n",
       "      <td>11</td>\n",
       "      <td>14</td>\n",
       "      <td>fw1chain</td>\n",
       "      <td>3</td>\n",
       "      <td>source3</td>\n",
       "      <td>1</td>\n",
       "      <td>bjointsp</td>\n",
       "      <td>8.0</td>\n",
       "      <td>9.1</td>\n",
       "      <td>1.1</td>\n",
       "      <td>1.137500</td>\n",
       "    </tr>\n",
       "    <tr>\n",
       "      <th>4</th>\n",
       "      <td>Abilene</td>\n",
       "      <td>11</td>\n",
       "      <td>14</td>\n",
       "      <td>fw1chain</td>\n",
       "      <td>3</td>\n",
       "      <td>source4</td>\n",
       "      <td>1</td>\n",
       "      <td>bjointsp</td>\n",
       "      <td>14.0</td>\n",
       "      <td>15.1</td>\n",
       "      <td>1.1</td>\n",
       "      <td>1.078571</td>\n",
       "    </tr>\n",
       "  </tbody>\n",
       "</table>\n",
       "</div>"
      ],
      "text/plain": [
       "   network num_nodes num_edges   service num_vnfs  sources num_sources  \\\n",
       "0  Abilene        11        14  fw1chain        3  source0           1   \n",
       "1  Abilene        11        14  fw1chain        3  source1           1   \n",
       "2  Abilene        11        14  fw1chain        3  source2           1   \n",
       "3  Abilene        11        14  fw1chain        3  source3           1   \n",
       "4  Abilene        11        14  fw1chain        3  source4           1   \n",
       "\n",
       "  algorithm  sim_rtt  emu_rtt  rtt_diff  rtt_ratio  \n",
       "0  bjointsp      6.0      7.1       1.1   1.183333  \n",
       "1  bjointsp      6.0      7.1       1.1   1.183333  \n",
       "2  bjointsp      8.0      9.1       1.1   1.137500  \n",
       "3  bjointsp      8.0      9.1       1.1   1.137500  \n",
       "4  bjointsp     14.0     15.1       1.1   1.078571  "
      ]
     },
     "execution_count": 4,
     "metadata": {},
     "output_type": "execute_result"
    }
   ],
   "source": [
    "chain_df.head()"
   ]
  },
  {
   "cell_type": "code",
   "execution_count": 5,
   "metadata": {
    "scrolled": true
   },
   "outputs": [
    {
     "data": {
      "text/html": [
       "<div>\n",
       "<style>\n",
       "    .dataframe thead tr:only-child th {\n",
       "        text-align: right;\n",
       "    }\n",
       "\n",
       "    .dataframe thead th {\n",
       "        text-align: left;\n",
       "    }\n",
       "\n",
       "    .dataframe tbody tr th {\n",
       "        vertical-align: top;\n",
       "    }\n",
       "</style>\n",
       "<table border=\"1\" class=\"dataframe\">\n",
       "  <thead>\n",
       "    <tr style=\"text-align: right;\">\n",
       "      <th></th>\n",
       "      <th>algorithm</th>\n",
       "      <th>network</th>\n",
       "      <th>num_nodes</th>\n",
       "      <th>num_edges</th>\n",
       "      <th>service</th>\n",
       "      <th>num_vnfs</th>\n",
       "      <th>sources</th>\n",
       "      <th>num_sources</th>\n",
       "      <th>rtt</th>\n",
       "      <th>type</th>\n",
       "    </tr>\n",
       "  </thead>\n",
       "  <tbody>\n",
       "    <tr>\n",
       "      <th>0</th>\n",
       "      <td>bjointsp</td>\n",
       "      <td>Abilene</td>\n",
       "      <td>11</td>\n",
       "      <td>14</td>\n",
       "      <td>fw1chain</td>\n",
       "      <td>3</td>\n",
       "      <td>source0</td>\n",
       "      <td>1</td>\n",
       "      <td>6.0</td>\n",
       "      <td>sim</td>\n",
       "    </tr>\n",
       "    <tr>\n",
       "      <th>1</th>\n",
       "      <td>bjointsp</td>\n",
       "      <td>Abilene</td>\n",
       "      <td>11</td>\n",
       "      <td>14</td>\n",
       "      <td>fw1chain</td>\n",
       "      <td>3</td>\n",
       "      <td>source1</td>\n",
       "      <td>1</td>\n",
       "      <td>6.0</td>\n",
       "      <td>sim</td>\n",
       "    </tr>\n",
       "    <tr>\n",
       "      <th>2</th>\n",
       "      <td>bjointsp</td>\n",
       "      <td>Abilene</td>\n",
       "      <td>11</td>\n",
       "      <td>14</td>\n",
       "      <td>fw1chain</td>\n",
       "      <td>3</td>\n",
       "      <td>source2</td>\n",
       "      <td>1</td>\n",
       "      <td>8.0</td>\n",
       "      <td>sim</td>\n",
       "    </tr>\n",
       "    <tr>\n",
       "      <th>3</th>\n",
       "      <td>bjointsp</td>\n",
       "      <td>Abilene</td>\n",
       "      <td>11</td>\n",
       "      <td>14</td>\n",
       "      <td>fw1chain</td>\n",
       "      <td>3</td>\n",
       "      <td>source3</td>\n",
       "      <td>1</td>\n",
       "      <td>8.0</td>\n",
       "      <td>sim</td>\n",
       "    </tr>\n",
       "    <tr>\n",
       "      <th>4</th>\n",
       "      <td>bjointsp</td>\n",
       "      <td>Abilene</td>\n",
       "      <td>11</td>\n",
       "      <td>14</td>\n",
       "      <td>fw1chain</td>\n",
       "      <td>3</td>\n",
       "      <td>source4</td>\n",
       "      <td>1</td>\n",
       "      <td>14.0</td>\n",
       "      <td>sim</td>\n",
       "    </tr>\n",
       "  </tbody>\n",
       "</table>\n",
       "</div>"
      ],
      "text/plain": [
       "  algorithm  network num_nodes num_edges   service num_vnfs  sources  \\\n",
       "0  bjointsp  Abilene        11        14  fw1chain        3  source0   \n",
       "1  bjointsp  Abilene        11        14  fw1chain        3  source1   \n",
       "2  bjointsp  Abilene        11        14  fw1chain        3  source2   \n",
       "3  bjointsp  Abilene        11        14  fw1chain        3  source3   \n",
       "4  bjointsp  Abilene        11        14  fw1chain        3  source4   \n",
       "\n",
       "  num_sources   rtt type  \n",
       "0           1   6.0  sim  \n",
       "1           1   6.0  sim  \n",
       "2           1   8.0  sim  \n",
       "3           1   8.0  sim  \n",
       "4           1  14.0  sim  "
      ]
     },
     "execution_count": 5,
     "metadata": {},
     "output_type": "execute_result"
    }
   ],
   "source": [
    "aux_chain_df.head()"
   ]
  },
  {
   "cell_type": "code",
   "execution_count": 6,
   "metadata": {},
   "outputs": [
    {
     "data": {
      "text/html": [
       "<div>\n",
       "<style>\n",
       "    .dataframe thead tr:only-child th {\n",
       "        text-align: right;\n",
       "    }\n",
       "\n",
       "    .dataframe thead th {\n",
       "        text-align: left;\n",
       "    }\n",
       "\n",
       "    .dataframe tbody tr th {\n",
       "        vertical-align: top;\n",
       "    }\n",
       "</style>\n",
       "<table border=\"1\" class=\"dataframe\">\n",
       "  <thead>\n",
       "    <tr style=\"text-align: right;\">\n",
       "      <th></th>\n",
       "      <th>network</th>\n",
       "      <th>num_nodes</th>\n",
       "      <th>num_edges</th>\n",
       "      <th>service</th>\n",
       "      <th>num_vnfs</th>\n",
       "      <th>sources</th>\n",
       "      <th>num_sources</th>\n",
       "      <th>algorithm</th>\n",
       "      <th>src</th>\n",
       "      <th>dest</th>\n",
       "      <th>sim_rtt</th>\n",
       "      <th>emu_rtt</th>\n",
       "      <th>rtt_diff</th>\n",
       "      <th>rtt_ratio</th>\n",
       "    </tr>\n",
       "  </thead>\n",
       "  <tbody>\n",
       "    <tr>\n",
       "      <th>0</th>\n",
       "      <td>Abilene</td>\n",
       "      <td>11</td>\n",
       "      <td>14</td>\n",
       "      <td>fw1chain</td>\n",
       "      <td>3</td>\n",
       "      <td>source0</td>\n",
       "      <td>1</td>\n",
       "      <td>bjointsp</td>\n",
       "      <td>vnf_user</td>\n",
       "      <td>vnf_fw1</td>\n",
       "      <td>2.0</td>\n",
       "      <td>2.210</td>\n",
       "      <td>0.210</td>\n",
       "      <td>1.10500</td>\n",
       "    </tr>\n",
       "    <tr>\n",
       "      <th>1</th>\n",
       "      <td>Abilene</td>\n",
       "      <td>11</td>\n",
       "      <td>14</td>\n",
       "      <td>fw1chain</td>\n",
       "      <td>3</td>\n",
       "      <td>source0</td>\n",
       "      <td>1</td>\n",
       "      <td>bjointsp</td>\n",
       "      <td>vnf_fw1</td>\n",
       "      <td>vnf_web</td>\n",
       "      <td>4.0</td>\n",
       "      <td>4.238</td>\n",
       "      <td>0.238</td>\n",
       "      <td>1.05950</td>\n",
       "    </tr>\n",
       "    <tr>\n",
       "      <th>2</th>\n",
       "      <td>Abilene</td>\n",
       "      <td>11</td>\n",
       "      <td>14</td>\n",
       "      <td>fw1chain</td>\n",
       "      <td>3</td>\n",
       "      <td>source1</td>\n",
       "      <td>1</td>\n",
       "      <td>bjointsp</td>\n",
       "      <td>vnf_user</td>\n",
       "      <td>vnf_fw1</td>\n",
       "      <td>2.0</td>\n",
       "      <td>2.203</td>\n",
       "      <td>0.203</td>\n",
       "      <td>1.10150</td>\n",
       "    </tr>\n",
       "    <tr>\n",
       "      <th>3</th>\n",
       "      <td>Abilene</td>\n",
       "      <td>11</td>\n",
       "      <td>14</td>\n",
       "      <td>fw1chain</td>\n",
       "      <td>3</td>\n",
       "      <td>source1</td>\n",
       "      <td>1</td>\n",
       "      <td>bjointsp</td>\n",
       "      <td>vnf_fw1</td>\n",
       "      <td>vnf_web</td>\n",
       "      <td>4.0</td>\n",
       "      <td>4.223</td>\n",
       "      <td>0.223</td>\n",
       "      <td>1.05575</td>\n",
       "    </tr>\n",
       "    <tr>\n",
       "      <th>4</th>\n",
       "      <td>Abilene</td>\n",
       "      <td>11</td>\n",
       "      <td>14</td>\n",
       "      <td>fw1chain</td>\n",
       "      <td>3</td>\n",
       "      <td>source2</td>\n",
       "      <td>1</td>\n",
       "      <td>bjointsp</td>\n",
       "      <td>vnf_user</td>\n",
       "      <td>vnf_fw1</td>\n",
       "      <td>2.0</td>\n",
       "      <td>2.191</td>\n",
       "      <td>0.191</td>\n",
       "      <td>1.09550</td>\n",
       "    </tr>\n",
       "  </tbody>\n",
       "</table>\n",
       "</div>"
      ],
      "text/plain": [
       "   network num_nodes num_edges   service num_vnfs  sources num_sources  \\\n",
       "0  Abilene        11        14  fw1chain        3  source0           1   \n",
       "1  Abilene        11        14  fw1chain        3  source0           1   \n",
       "2  Abilene        11        14  fw1chain        3  source1           1   \n",
       "3  Abilene        11        14  fw1chain        3  source1           1   \n",
       "4  Abilene        11        14  fw1chain        3  source2           1   \n",
       "\n",
       "  algorithm       src     dest  sim_rtt  emu_rtt  rtt_diff  rtt_ratio  \n",
       "0  bjointsp  vnf_user  vnf_fw1      2.0    2.210     0.210    1.10500  \n",
       "1  bjointsp   vnf_fw1  vnf_web      4.0    4.238     0.238    1.05950  \n",
       "2  bjointsp  vnf_user  vnf_fw1      2.0    2.203     0.203    1.10150  \n",
       "3  bjointsp   vnf_fw1  vnf_web      4.0    4.223     0.223    1.05575  \n",
       "4  bjointsp  vnf_user  vnf_fw1      2.0    2.191     0.191    1.09550  "
      ]
     },
     "execution_count": 6,
     "metadata": {},
     "output_type": "execute_result"
    }
   ],
   "source": [
    "vnf_df.head()"
   ]
  },
  {
   "cell_type": "markdown",
   "metadata": {},
   "source": [
    "**TODO: continue here**\n",
    "\n",
    "## Chain RTT\n",
    "\n",
    "Let's start the evaluation by analyzing the RTT of the whole chain, comparing the different placement algorithms."
   ]
  },
  {
   "cell_type": "code",
   "execution_count": 27,
   "metadata": {},
   "outputs": [
    {
     "data": {
      "text/plain": [
       "Text(0.5,1,'Emulation chain RTT')"
      ]
     },
     "execution_count": 27,
     "metadata": {},
     "output_type": "execute_result"
    },
    {
     "data": {
      "image/png": "[encoded data removed]",
      "text/plain": [
       "<matplotlib.figure.Figure at 0x2c1673abb00>"
      ]
     },
     "metadata": {},
     "output_type": "display_data"
    }
   ],
   "source": [
    "# comparison of bjointsp and random placement\n",
    "# df with combined/concatenated results of both bjointsp and random\n",
    "chain_df = pd.concat([bjointsp_chain_df, random_chain_df])\n",
    "\n",
    "f, (ax1, ax2) = plt.subplots(1, 2, figsize=(10, 5))\n",
    "sns.boxplot(x='num_vnfs', y='sim_rtt', hue='algorithm', data=chain_df, ax=ax1).set_title('Simulation chain RTT')\n",
    "sns.boxplot(x='num_vnfs', y='emu_rtt', hue='algorithm', data=chain_df, ax=ax2).set_title('Emulation chain RTT')"
   ]
  },
  {
   "cell_type": "markdown",
   "metadata": {},
   "source": [
    "Clearly, random placement leads to much higher simulation and emulation delays than bjointsp. For both, the delays increase notably with increasing chain length (num_vnfs)."
   ]
  },
  {
   "cell_type": "code",
   "execution_count": 28,
   "metadata": {
    "scrolled": false
   },
   "outputs": [
    {
     "data": {
      "text/plain": [
       "Text(0.5,1,'Random chain RTT')"
      ]
     },
     "execution_count": 28,
     "metadata": {},
     "output_type": "execute_result"
    },
    {
     "data": {
      "image/png": "[encoded data removed]",
      "text/plain": [
       "<matplotlib.figure.Figure at 0x2c169be8518>"
      ]
     },
     "metadata": {},
     "output_type": "display_data"
    }
   ],
   "source": [
    "# comparison of simulation and emulation delays\n",
    "# this is what aux_chain_df is for\n",
    "f, (ax1, ax2) = plt.subplots(1, 2, figsize=(10, 5))\n",
    "sns.boxplot(x='num_vnfs', y='rtt', hue='type', data=bjointsp_aux_chain_df, ax=ax1).set_title('B-JointSP chain RTT')\n",
    "sns.boxplot(x='num_vnfs', y='rtt', hue='type', data=random_aux_chain_df, ax=ax2).set_title('Random chain RTT')"
   ]
  },
  {
   "cell_type": "markdown",
   "metadata": {},
   "source": [
    "Chain delays seem to be very similar comparing simulation and emulation. Clearly, there are a variety of different RTTs per service/chain length because of different placement (each one has a different source location).\n",
    "\n",
    "\n",
    "### Chain RTT difference\n",
    "\n",
    "Absolute difference between emulated and simulated chain RTT: emu_rtt - sim_rtt"
   ]
  },
  {
   "cell_type": "code",
   "execution_count": 29,
   "metadata": {},
   "outputs": [
    {
     "data": {
      "text/plain": [
       "Text(0.5,1,'Random chain RTT difference')"
      ]
     },
     "execution_count": 29,
     "metadata": {},
     "output_type": "execute_result"
    },
    {
     "data": {
      "image/png": "[encoded data removed]",
      "text/plain": [
       "<matplotlib.figure.Figure at 0x2c16765c898>"
      ]
     },
     "metadata": {},
     "output_type": "display_data"
    }
   ],
   "source": [
    "f, (ax1, ax2) = plt.subplots(1, 2, figsize=(10, 5))\n",
    "sns.boxplot(x='num_vnfs', y='rtt_diff', data=bjointsp_chain_df, ax=ax1).set_title('B-JointSP chain RTT difference')\n",
    "sns.boxplot(x='num_vnfs', y='rtt_diff', data=random_chain_df, ax=ax2).set_title('Random chain RTT difference')"
   ]
  },
  {
   "cell_type": "markdown",
   "metadata": {},
   "source": [
    "When looking at the difference in RTT, the emulation delay is clearly higher than the simulation delay. And the difference between the two increases with increasing chain length. There is surprisingly little deviation in rtt_diff for each chain length.\n",
    "\n",
    "This observation holds for both placement algorithms (bjointsp and random). The RTT difference is generally a little higher for random placement. I suspect this is due to the longer paths in random placement, on which the simulated and emulated delays differ more strongly.\n",
    "\n",
    "\n",
    "### Chain RTT ratio\n",
    "\n",
    "Relative ratio of emulated vs. simulated chain RTT: emu_rtt / sim_rtt"
   ]
  },
  {
   "cell_type": "code",
   "execution_count": 30,
   "metadata": {},
   "outputs": [
    {
     "data": {
      "text/plain": [
       "Text(0.5,1,'Chain RTT ratio')"
      ]
     },
     "execution_count": 30,
     "metadata": {},
     "output_type": "execute_result"
    },
    {
     "data": {
      "image/png": "[encoded data removed]",
      "text/plain": [
       "<matplotlib.figure.Figure at 0x2c169be9748>"
      ]
     },
     "metadata": {},
     "output_type": "display_data"
    }
   ],
   "source": [
    "sns.boxplot(x='num_vnfs', y='rtt_ratio', hue='algorithm', data=chain_df).set_title('Chain RTT ratio')"
   ]
  },
  {
   "cell_type": "markdown",
   "metadata": {},
   "source": [
    "**B-JointSP**: While the absolute difference between emulated and simulated chain RTT clearly increases for increasing chain length, the relative ratio of the two stays fairly constant at slightly above 1.\n",
    "The spread is higher for chains with three VNFs than with four or five, probably due to the shorter sim_rtt (deviations affect the ratio stronger).\n",
    "\n",
    "**Random**: While the RTT difference is higher, random placement actually has a lower ratio RTT ratio compared to B-JointSP. Also the spread is smaller. This is probably also due to the longer path lengths and higher overall delays, leading to lower ratios and less relative spread. Here, the ratio seems to increase very slightly with longer chains lengths."
   ]
  },
  {
   "cell_type": "markdown",
   "metadata": {},
   "source": [
    "## Inter-VNF RTT\n",
    "Let's do the same for inter-VNF delays/RTTs. Now, we're looking at two VNFs in isolation, i.e., independent of the rest of the chain. Thus, we're not considering chain length."
   ]
  },
  {
   "cell_type": "code",
   "execution_count": 31,
   "metadata": {},
   "outputs": [
    {
     "data": {
      "text/plain": [
       "Text(0.5,1,'Inter-VNF RTT')"
      ]
     },
     "execution_count": 31,
     "metadata": {},
     "output_type": "execute_result"
    },
    {
     "data": {
      "image/png": "[encoded data removed]",
      "text/plain": [
       "<matplotlib.figure.Figure at 0x2c16a024ac8>"
      ]
     },
     "metadata": {},
     "output_type": "display_data"
    }
   ],
   "source": [
    "aux_vnf_df = pd.concat([bjointsp_aux_vnf_df, random_aux_vnf_df])\n",
    "\n",
    "sns.boxplot(x='type', y='rtt', hue='algorithm', data=aux_vnf_df).set_title('Inter-VNF RTT')"
   ]
  },
  {
   "cell_type": "markdown",
   "metadata": {},
   "source": [
    "As expected, random placement also leads to much higher inter-VNF delays than bjointsp. \n",
    "The difference between simulation and emulation delays seems to be negligible when considering inter-VNF RTTs. Let's look into that further.\n",
    "\n",
    "### Inter-VNF RTT difference\n",
    "\n",
    "Absolute difference between emulated and simulated inter-VNF RTT: emu_rtt - sim_rtt"
   ]
  },
  {
   "cell_type": "code",
   "execution_count": 32,
   "metadata": {},
   "outputs": [
    {
     "data": {
      "text/plain": [
       "Text(0.5,1,'Inter-VNF RTT difference')"
      ]
     },
     "execution_count": 32,
     "metadata": {},
     "output_type": "execute_result"
    },
    {
     "data": {
      "image/png": "[encoded data removed]",
      "text/plain": [
       "<matplotlib.figure.Figure at 0x2c16a051400>"
      ]
     },
     "metadata": {},
     "output_type": "display_data"
    }
   ],
   "source": [
    "vnf_df = pd.concat([bjointsp_vnf_df, random_vnf_df])\n",
    "\n",
    "sns.boxplot(x='algorithm', y='rtt_diff', data=vnf_df).set_title('Inter-VNF RTT difference')"
   ]
  },
  {
   "cell_type": "markdown",
   "metadata": {},
   "source": [
    "The absolute difference between simulated and emulated inter-VNF RTTs is rather small. \n",
    "\n",
    "For bjointsp, it is generally smaller (< 1ms) than for random placement. Also the spread is smaller for bjointsp. This is probably due to the longer paths in random placement, which allow for more deviation between simulation and emulation. (Similar to the observation for chain RTTs.)\n",
    "\n",
    "Compared to chain RTTs: \n",
    "The simulation-emulation difference for chain RTTs was mainly influenced by the chain length. Longer chains lead to a higher difference between simulated and emulated chain RTT. For a given chain length, the spread is very low, i.e., all placements have a very similar chain RTT difference per chain length.\n",
    "\n",
    "For inter-VNF RTTs, there is a significant spread of the inter-VNF RTT difference (emulation vs simulation). Both for bjointsp and random. Where does this spread come from?"
   ]
  },
  {
   "cell_type": "code",
   "execution_count": 33,
   "metadata": {},
   "outputs": [
    {
     "data": {
      "text/plain": [
       "Text(0.5,1,'Random inter-VNF RTT difference')"
      ]
     },
     "execution_count": 33,
     "metadata": {},
     "output_type": "execute_result"
    },
    {
     "data": {
      "image/png": "[encoded data removed]",
      "text/plain": [
       "<matplotlib.figure.Figure at 0x2c16a029400>"
      ]
     },
     "metadata": {},
     "output_type": "display_data"
    }
   ],
   "source": [
    "# plot RTT difference for different chain lengths\n",
    "f, (ax1, ax2) = plt.subplots(1, 2, figsize=(10, 5))\n",
    "sns.boxplot(x='num_vnfs', y='rtt_diff', data=bjointsp_vnf_df, ax=ax1).set_title('B-JointSP inter-VNF RTT difference')\n",
    "sns.boxplot(x='num_vnfs', y='rtt_diff', data=random_vnf_df, ax=ax2).set_title('Random inter-VNF RTT difference')"
   ]
  },
  {
   "cell_type": "markdown",
   "metadata": {},
   "source": [
    "Other than for chain RTTs, the chain length does not affect the inter-VNF RTT and cannot explain the large spread in inter-VNF RTT difference."
   ]
  },
  {
   "cell_type": "code",
   "execution_count": 34,
   "metadata": {},
   "outputs": [
    {
     "data": {
      "text/plain": [
       "Text(0.5,1,'Random placement')"
      ]
     },
     "execution_count": 34,
     "metadata": {},
     "output_type": "execute_result"
    },
    {
     "data": {
      "image/png": "[encoded data removed]",
      "text/plain": [
       "<matplotlib.figure.Figure at 0x2c16a1bdcf8>"
      ]
     },
     "metadata": {},
     "output_type": "display_data"
    }
   ],
   "source": [
    "# plot RTT difference as a variable of the node distance = link delay = sim delay/RTT\n",
    "f, (ax1, ax2) = plt.subplots(1, 2, figsize=(15, 5))\n",
    "sns.pointplot(x='sim_rtt', y='rtt_diff', data=bjointsp_vnf_df, ax=ax1).set_title('B-JointSP')\n",
    "sns.pointplot(x='sim_rtt', y='rtt_diff', data=random_vnf_df, ax=ax2).set_title('Random placement')"
   ]
  },
  {
   "cell_type": "markdown",
   "metadata": {},
   "source": [
    "The difference of emulated and simulated inter-VNF RTTs increases with increasing simulated inter-VNF RTT. The simulated inter-VNF RTT directly reflects the link delay and thus distance between two connected VNFs.\n",
    "\n",
    "Hence, for two very close VNFs, the simulated and emulated delays are almost identical, but for VNFs that are placed farther away (higher sim_rtt), the emulated delay can be significantly larger than the simulated delay.\n",
    "\n",
    "This holds for both placement algorithms.\n",
    "\n",
    "\n",
    "### Inter-VNF RTT ratio\n",
    "\n",
    "Relative ratio of emulated vs. simulated inter-VNF RTT: emu_rtt / sim_rtt\n",
    "\n",
    "Set to infinity if sim_rtt = 0."
   ]
  },
  {
   "cell_type": "code",
   "execution_count": 35,
   "metadata": {
    "scrolled": false
   },
   "outputs": [
    {
     "name": "stdout",
     "output_type": "stream",
     "text": [
      "Entries with inifinite ratio: 0\n"
     ]
    }
   ],
   "source": [
    "# set infinite ratios to NaN, so they are ignored when plotting\n",
    "print('Entries with inifinite ratio: {}'.format(vnf_df['rtt_ratio'].loc[vnf_df['rtt_ratio'] == np.inf].count()))\n",
    "vnf_df = vnf_df.replace(np.inf, np.nan)"
   ]
  },
  {
   "cell_type": "code",
   "execution_count": 36,
   "metadata": {},
   "outputs": [
    {
     "data": {
      "text/plain": [
       "Text(0.5,1,'Inter-VNF RTT ratio')"
      ]
     },
     "execution_count": 36,
     "metadata": {},
     "output_type": "execute_result"
    },
    {
     "data": {
      "image/png": "[encoded data removed]",
      "text/plain": [
       "<matplotlib.figure.Figure at 0x2c16b2e4080>"
      ]
     },
     "metadata": {},
     "output_type": "display_data"
    }
   ],
   "source": [
    "sns.boxplot(x='algorithm', y='rtt_ratio', hue='num_vnfs', data=vnf_df).set_title('Inter-VNF RTT ratio')"
   ]
  },
  {
   "cell_type": "markdown",
   "metadata": {},
   "source": [
    "Similar to the chain RTT ratio, the inter-VNF RTT ratio is pretty much constant with increasing chain length and very close to 1.\n",
    "\n",
    "While very close to 1 for both algorithms, bjoint sp has slightly higher ratios with significantly higher spread than random placement. This is likely due to the overall longer paths between VNFs in random placment, which lead to a lower relative ratio between emulated and simulated delay."
   ]
  },
  {
   "cell_type": "markdown",
   "metadata": {},
   "source": [
    "# Conclusion\n",
    "\n",
    "Nothing too surprising:\n",
    "\n",
    "* Random placement leads to much higher delays than B-JointSP\n",
    "* For both algorithms, the chain RTT clearly increases with increasing chain length\n",
    "* For longer chains, also the absolute difference of simulated vs emulated chain RTT increases\n",
    "* The inter-VNF RTT and RTT difference (simulation vs emulation) are mostly influenced by the distance of the two connected VNFs\n",
    "* In general, higher distance/chain length leads to higher absolute difference between simulation and emulation RTT but lower relative ratio of emulation and simulation RTT."
   ]
  }
 ],
 "metadata": {
  "kernelspec": {
   "display_name": "Python 3",
   "language": "python",
   "name": "python3"
  },
  "language_info": {
   "codemirror_mode": {
    "name": "ipython",
    "version": 3
   },
   "file_extension": ".py",
   "mimetype": "text/x-python",
   "name": "python",
   "nbconvert_exporter": "python",
   "pygments_lexer": "ipython3",
   "version": "3.6.3"
  }
 },
 "nbformat": 4,
 "nbformat_minor": 1
}
